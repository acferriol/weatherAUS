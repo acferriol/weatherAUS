{
  "metadata": {
    "language_info": {
      "codemirror_mode": {
        "name": "ipython",
        "version": 3
      },
      "file_extension": ".py",
      "mimetype": "text/x-python",
      "name": "python",
      "nbconvert_exporter": "python",
      "pygments_lexer": "ipython3",
      "version": "3.9.1-final"
    },
    "orig_nbformat": 2,
    "kernelspec": {
      "name": "python3",
      "display_name": "Python 3.9.1 64-bit",
      "metadata": {
        "interpreter": {
          "hash": "993719309b7497d4ea980752fffbdfc5c91491f5d8efe44ee08128fdc39f9023"
        }
      }
    },
    "colab": {
      "provenance": []
    }
  },
  "nbformat": 4,
  "nbformat_minor": 0,
  "cells": [
    {
      "cell_type": "code",
      "source": [
        "!pip install findspark"
      ],
      "metadata": {
        "colab": {
          "base_uri": "https://localhost:8080/"
        },
        "id": "DH_TuNRirxsw",
        "outputId": "b9c55566-f8d9-465d-e7a0-849d2c170ae5"
      },
      "execution_count": 103,
      "outputs": [
        {
          "output_type": "stream",
          "name": "stdout",
          "text": [
            "Looking in indexes: https://pypi.org/simple, https://us-python.pkg.dev/colab-wheels/public/simple/\n",
            "Requirement already satisfied: findspark in /usr/local/lib/python3.10/dist-packages (2.0.1)\n"
          ]
        }
      ]
    },
    {
      "cell_type": "code",
      "source": [
        "!pip install pyspark"
      ],
      "metadata": {
        "colab": {
          "base_uri": "https://localhost:8080/"
        },
        "id": "RDNtkEOprsFl",
        "outputId": "e8519eab-fc5b-4279-b3af-97232a4411ec"
      },
      "execution_count": 104,
      "outputs": [
        {
          "output_type": "stream",
          "name": "stdout",
          "text": [
            "Looking in indexes: https://pypi.org/simple, https://us-python.pkg.dev/colab-wheels/public/simple/\n",
            "Requirement already satisfied: pyspark in /usr/local/lib/python3.10/dist-packages (3.4.0)\n",
            "Requirement already satisfied: py4j==0.10.9.7 in /usr/local/lib/python3.10/dist-packages (from pyspark) (0.10.9.7)\n"
          ]
        }
      ]
    },
    {
      "cell_type": "code",
      "execution_count": 105,
      "metadata": {
        "id": "VlincvEsrnto"
      },
      "outputs": [],
      "source": [
        "from pyspark.sql import SparkSession\n",
        "import findspark as fs\n",
        "fs.init()"
      ]
    },
    {
      "cell_type": "code",
      "execution_count": 106,
      "metadata": {
        "id": "UAonZkPgrnts"
      },
      "outputs": [],
      "source": [
        "spark = SparkSession.builder.getOrCreate()"
      ]
    },
    {
      "cell_type": "code",
      "source": [
        "from google.colab import drive\n",
        "drive.mount('/content/drive')"
      ],
      "metadata": {
        "colab": {
          "base_uri": "https://localhost:8080/"
        },
        "id": "DZUeDNiUtX-O",
        "outputId": "f90d9496-1936-4d48-8584-820a025cd2d7"
      },
      "execution_count": 107,
      "outputs": [
        {
          "output_type": "stream",
          "name": "stdout",
          "text": [
            "Drive already mounted at /content/drive; to attempt to forcibly remount, call drive.mount(\"/content/drive\", force_remount=True).\n"
          ]
        }
      ]
    },
    {
      "cell_type": "code",
      "execution_count": 108,
      "metadata": {
        "id": "oCkGBrX9rntv"
      },
      "outputs": [],
      "source": [
        "df = spark.read.format(\"csv\")\\\n",
        "    .option(\"sep\",\",\")\\\n",
        "        .option(\"inferSchema\",\"true\")\\\n",
        "            .option(\"header\",\"true\")\\\n",
        "                .load(\"/content/drive/MyDrive/content/weatherAUS.csv\")"
      ]
    },
    {
      "cell_type": "code",
      "execution_count": 109,
      "metadata": {
        "colab": {
          "base_uri": "https://localhost:8080/"
        },
        "id": "eeusH3b2rnty",
        "outputId": "04b3fb38-f201-4df2-8ca8-1f9435f05d4a"
      },
      "outputs": [
        {
          "output_type": "stream",
          "name": "stdout",
          "text": [
            "root\n",
            " |-- Date: date (nullable = true)\n",
            " |-- Location: string (nullable = true)\n",
            " |-- MinTemp: string (nullable = true)\n",
            " |-- MaxTemp: string (nullable = true)\n",
            " |-- Rainfall: string (nullable = true)\n",
            " |-- Evaporation: string (nullable = true)\n",
            " |-- Sunshine: string (nullable = true)\n",
            " |-- WindGustDir: string (nullable = true)\n",
            " |-- WindGustSpeed: string (nullable = true)\n",
            " |-- WindDir9am: string (nullable = true)\n",
            " |-- WindDir3pm: string (nullable = true)\n",
            " |-- WindSpeed9am: string (nullable = true)\n",
            " |-- WindSpeed3pm: string (nullable = true)\n",
            " |-- Humidity9am: string (nullable = true)\n",
            " |-- Humidity3pm: string (nullable = true)\n",
            " |-- Pressure9am: string (nullable = true)\n",
            " |-- Pressure3pm: string (nullable = true)\n",
            " |-- Cloud9am: string (nullable = true)\n",
            " |-- Cloud3pm: string (nullable = true)\n",
            " |-- Temp9am: string (nullable = true)\n",
            " |-- Temp3pm: string (nullable = true)\n",
            " |-- RainToday: string (nullable = true)\n",
            " |-- RainTomorrow: string (nullable = true)\n",
            "\n"
          ]
        }
      ],
      "source": [
        "df.printSchema()"
      ]
    },
    {
      "source": [
        "> <h1>Tipando correctamente</h1>"
      ],
      "cell_type": "markdown",
      "metadata": {
        "id": "IDpd5hK-rnt1"
      }
    },
    {
      "cell_type": "code",
      "execution_count": 110,
      "metadata": {
        "colab": {
          "base_uri": "https://localhost:8080/"
        },
        "id": "SkwUcNXmrnt5",
        "outputId": "c68b0d59-9c70-4cd1-fa71-d57395b79418"
      },
      "outputs": [
        {
          "output_type": "stream",
          "name": "stdout",
          "text": [
            "+----------+--------+-------+-------+--------+-----------+--------+-----------+-------------+----------+----------+------------+------------+-----------+-----------+-----------+-----------+--------+--------+-------+-------+---------+------------+\n",
            "|      Date|Location|MinTemp|MaxTemp|Rainfall|Evaporation|Sunshine|WindGustDir|WindGustSpeed|WindDir9am|WindDir3pm|WindSpeed9am|WindSpeed3pm|Humidity9am|Humidity3pm|Pressure9am|Pressure3pm|Cloud9am|Cloud3pm|Temp9am|Temp3pm|RainToday|RainTomorrow|\n",
            "+----------+--------+-------+-------+--------+-----------+--------+-----------+-------------+----------+----------+------------+------------+-----------+-----------+-----------+-----------+--------+--------+-------+-------+---------+------------+\n",
            "|2008-12-01|  Albury|   13.4|   22.9|     0.6|       null|    null|          W|           44|         W|       WNW|          20|          24|         71|         22|     1007.7|     1007.1|       8|    null|   16.9|   21.8|       No|          No|\n",
            "|2008-12-02|  Albury|    7.4|   25.1|     0.0|       null|    null|        WNW|           44|       NNW|       WSW|           4|          22|         44|         25|     1010.6|     1007.8|    null|    null|   17.2|   24.3|       No|          No|\n",
            "|2008-12-03|  Albury|   12.9|   25.7|     0.0|       null|    null|        WSW|           46|         W|       WSW|          19|          26|         38|         30|     1007.6|     1008.7|    null|       2|   21.0|   23.2|       No|          No|\n",
            "|2008-12-04|  Albury|    9.2|   28.0|     0.0|       null|    null|         NE|           24|        SE|         E|          11|           9|         45|         16|     1017.6|     1012.8|    null|    null|   18.1|   26.5|       No|          No|\n",
            "|2008-12-05|  Albury|   17.5|   32.3|     1.0|       null|    null|          W|           41|       ENE|        NW|           7|          20|         82|         33|     1010.8|     1006.0|       7|       8|   17.8|   29.7|       No|          No|\n",
            "|2008-12-06|  Albury|   14.6|   29.7|     0.2|       null|    null|        WNW|           56|         W|         W|          19|          24|         55|         23|     1009.2|     1005.4|    null|    null|   20.6|   28.9|       No|          No|\n",
            "|2008-12-07|  Albury|   14.3|   25.0|     0.0|       null|    null|          W|           50|        SW|         W|          20|          24|         49|         19|     1009.6|     1008.2|       1|    null|   18.1|   24.6|       No|          No|\n",
            "|2008-12-08|  Albury|    7.7|   26.7|     0.0|       null|    null|          W|           35|       SSE|         W|           6|          17|         48|         19|     1013.4|     1010.1|    null|    null|   16.3|   25.5|       No|          No|\n",
            "|2008-12-09|  Albury|    9.7|   31.9|     0.0|       null|    null|        NNW|           80|        SE|        NW|           7|          28|         42|          9|     1008.9|     1003.6|    null|    null|   18.3|   30.2|       No|         Yes|\n",
            "|2008-12-10|  Albury|   13.1|   30.1|     1.4|       null|    null|          W|           28|         S|       SSE|          15|          11|         58|         27|     1007.0|     1005.7|    null|    null|   20.1|   28.2|      Yes|          No|\n",
            "|2008-12-11|  Albury|   13.4|   30.4|     0.0|       null|    null|          N|           30|       SSE|       ESE|          17|           6|         48|         22|     1011.8|     1008.7|    null|    null|   20.4|   28.8|       No|         Yes|\n",
            "|2008-12-12|  Albury|   15.9|   21.7|     2.2|       null|    null|        NNE|           31|        NE|       ENE|          15|          13|         89|         91|     1010.5|     1004.2|       8|       8|   15.9|   17.0|      Yes|         Yes|\n",
            "|2008-12-13|  Albury|   15.9|   18.6|    15.6|       null|    null|          W|           61|       NNW|       NNW|          28|          28|         76|         93|      994.3|      993.0|       8|       8|   17.4|   15.8|      Yes|         Yes|\n",
            "|2008-12-14|  Albury|   12.6|   21.0|     3.6|       null|    null|         SW|           44|         W|       SSW|          24|          20|         65|         43|     1001.2|     1001.8|    null|       7|   15.8|   19.8|      Yes|          No|\n",
            "|2008-12-15|  Albury|    8.4|   24.6|     0.0|       null|    null|         NA|         null|         S|       WNW|           4|          30|         57|         32|     1009.7|     1008.7|    null|    null|   15.9|   23.5|       No|          NA|\n",
            "|2008-12-16|  Albury|    9.8|   27.7|    null|       null|    null|        WNW|           50|        NA|       WNW|        null|          22|         50|         28|     1013.4|     1010.3|       0|    null|   17.3|   26.2|       NA|          No|\n",
            "|2008-12-17|  Albury|   14.1|   20.9|     0.0|       null|    null|        ENE|           22|       SSW|         E|          11|           9|         69|         82|     1012.2|     1010.4|       8|       1|   17.2|   18.1|       No|         Yes|\n",
            "|2008-12-18|  Albury|   13.5|   22.9|    16.8|       null|    null|          W|           63|         N|       WNW|           6|          20|         80|         65|     1005.8|     1002.2|       8|       1|   18.0|   21.5|      Yes|         Yes|\n",
            "|2008-12-19|  Albury|   11.2|   22.5|    10.6|       null|    null|        SSE|           43|       WSW|        SW|          24|          17|         47|         32|     1009.4|     1009.7|    null|       2|   15.5|   21.0|      Yes|          No|\n",
            "|2008-12-20|  Albury|    9.8|   25.6|     0.0|       null|    null|        SSE|           26|        SE|       NNW|          17|           6|         45|         26|     1019.2|     1017.1|    null|    null|   15.8|   23.2|       No|          No|\n",
            "+----------+--------+-------+-------+--------+-----------+--------+-----------+-------------+----------+----------+------------+------------+-----------+-----------+-----------+-----------+--------+--------+-------+-------+---------+------------+\n",
            "only showing top 20 rows\n",
            "\n"
          ]
        }
      ],
      "source": [
        "df = df.withColumn(\"Date\", df[\"Date\"].cast(\"date\"))\n",
        "df = df.withColumn(\"MinTemp\", df[\"MinTemp\"].cast(\"float\"))\n",
        "df = df.withColumn(\"MaxTemp\", df[\"MaxTemp\"].cast(\"float\"))\n",
        "df = df.withColumn(\"Rainfall\", df[\"Rainfall\"].cast(\"float\"))\n",
        "df = df.withColumn(\"Evaporation\", df[\"Evaporation\"].cast(\"float\"))\n",
        "df = df.withColumn(\"Sunshine\", df[\"Sunshine\"].cast(\"float\"))\n",
        "df = df.withColumn(\"WindGustSpeed\", df[\"WindGustSpeed\"].cast(\"int\"))\n",
        "df = df.withColumn(\"WindSpeed9am\", df[\"WindSpeed9am\"].cast(\"int\"))\n",
        "df = df.withColumn(\"WindSpeed3pm\", df[\"WindSpeed3pm\"].cast(\"int\"))\n",
        "df = df.withColumn(\"Humidity9am\", df[\"Humidity9am\"].cast(\"int\"))\n",
        "df = df.withColumn(\"Humidity3pm\", df[\"Humidity3pm\"].cast(\"int\"))\n",
        "df = df.withColumn(\"Pressure9am\", df[\"Pressure9am\"].cast(\"float\"))\n",
        "df = df.withColumn(\"Pressure3pm\", df[\"Pressure3pm\"].cast(\"float\"))\n",
        "df = df.withColumn(\"Cloud9am\", df[\"Cloud9am\"].cast(\"int\"))\n",
        "df = df.withColumn(\"Cloud3pm\", df[\"Cloud3pm\"].cast(\"int\"))\n",
        "df = df.withColumn(\"Temp9am\", df[\"Temp9am\"].cast(\"float\"))\n",
        "df = df.withColumn(\"Temp3pm\", df[\"Temp3pm\"].cast(\"float\"))\n",
        "df.show()"
      ]
    },
    {
      "source": [
        "<h1> Transformando"
      ],
      "cell_type": "markdown",
      "metadata": {
        "id": "A1qRyuDlrnwN"
      }
    },
    {
      "source": [
        "<h2> Trabajando con datos faltantes"
      ],
      "cell_type": "markdown",
      "metadata": {
        "id": "ovwSVuscrnwO"
      }
    },
    {
      "cell_type": "code",
      "execution_count": 111,
      "metadata": {
        "colab": {
          "base_uri": "https://localhost:8080/"
        },
        "id": "fVT8wAnGrnwQ",
        "outputId": "031acd8b-0f42-4bbb-9832-c228ef2a6cd6"
      },
      "outputs": [
        {
          "output_type": "stream",
          "name": "stdout",
          "text": [
            "Date   0\n",
            "Location   0\n",
            "MinTemp   1485\n",
            "MaxTemp   1261\n",
            "Rainfall   3261\n",
            "Evaporation   62790\n",
            "Sunshine   69835\n",
            "WindGustDir   0\n",
            "WindGustSpeed   10263\n",
            "WindDir9am   0\n",
            "WindDir3pm   0\n",
            "WindSpeed9am   1767\n",
            "WindSpeed3pm   3062\n",
            "Humidity9am   2654\n",
            "Humidity3pm   4507\n",
            "Pressure9am   15065\n",
            "Pressure3pm   15028\n",
            "Cloud9am   55888\n",
            "Cloud3pm   59358\n",
            "Temp9am   1767\n",
            "Temp3pm   3609\n",
            "RainToday   0\n",
            "RainTomorrow   0\n"
          ]
        }
      ],
      "source": [
        "for col in df.columns:\n",
        "    print(col,\" \",df.filter(df[col].isNull()).count() )"
      ]
    },
    {
      "cell_type": "code",
      "execution_count": 112,
      "metadata": {
        "colab": {
          "base_uri": "https://localhost:8080/"
        },
        "id": "cpCNuDVzrnwT",
        "outputId": "270aaddb-9347-483f-ed9e-b7edf5da3ffa"
      },
      "outputs": [
        {
          "output_type": "stream",
          "name": "stdout",
          "text": [
            "145460\n"
          ]
        }
      ],
      "source": [
        "print(df.count())"
      ]
    },
    {
      "source": [
        "<h3> Se eliminan los atributos Evaporation, Sunshine, Cloud9am y Cloud3pm por tener más de 1/3 de sus valores nulos"
      ],
      "cell_type": "markdown",
      "metadata": {
        "id": "Ox3n5gtGrnwY"
      }
    },
    {
      "cell_type": "code",
      "execution_count": 113,
      "metadata": {
        "id": "zLaun-Zurnwb"
      },
      "outputs": [],
      "source": [
        "df =df.drop(\"Evaporation\", \"Sunshine\", \"Cloud9am\", \"Cloud3pm\")\n"
      ]
    },
    {
      "source": [
        "<h3> Los valores faltantes de las otras variables meteorológicas se completarán con la media"
      ],
      "cell_type": "markdown",
      "metadata": {
        "id": "i31aiVbPrnwd"
      }
    },
    {
      "cell_type": "code",
      "execution_count": 114,
      "metadata": {
        "colab": {
          "base_uri": "https://localhost:8080/"
        },
        "id": "2BAps2_9rnwe",
        "outputId": "1b5a18ba-eadd-42d7-c650-cc4874f00cd5"
      },
      "outputs": [
        {
          "output_type": "stream",
          "name": "stdout",
          "text": [
            "+------------------+------------------+------------------+------------------+------------------+------------------+\n",
            "|avg(WindGustSpeed)|     avg(Rainfall)| avg(WindSpeed9am)|      avg(MinTemp)| avg(WindSpeed3pm)|      avg(MaxTemp)|\n",
            "+------------------+------------------+------------------+------------------+------------------+------------------+\n",
            "| 40.03523007167319|2.3609181508908756|14.043425914971502|12.194034381779941|18.662656778887342|23.221348273321002|\n",
            "+------------------+------------------+------------------+------------------+------------------+------------------+\n",
            "\n"
          ]
        }
      ],
      "source": [
        "df.agg({\"MinTemp\":\"avg\",\n",
        "        \"MaxTemp\":\"avg\",\n",
        "        \"Rainfall\":\"avg\",\n",
        "        \"WindGustSpeed\":\"avg\",\n",
        "        \"WindSpeed9am\":\"avg\",   \n",
        "        \"WindSpeed3pm\":\"avg\"}).show()   "
      ]
    },
    {
      "cell_type": "code",
      "execution_count": 115,
      "metadata": {
        "id": "_4_plJv7rnwg"
      },
      "outputs": [],
      "source": [
        "df = df.na.fill(12.2,subset=[\"MinTemp\"])\n",
        "df = df.na.fill(23.22,subset=[\"MaxTemp\"])\n",
        "df = df.na.fill(40,subset=[\"WindGustSpeed\"])\n",
        "df = df.na.fill(2.36,subset=[\"Rainfall\"])\n",
        "df = df.na.fill(14,subset=[\"WindSpeed9am\"])\n",
        "df = df.na.fill(19,subset=[\"WindSpeed3pm\"])"
      ]
    },
    {
      "cell_type": "code",
      "execution_count": 116,
      "metadata": {
        "colab": {
          "base_uri": "https://localhost:8080/"
        },
        "id": "NsKw94lLrnwh",
        "outputId": "6b319f52-41e1-436c-91f3-6493546014de"
      },
      "outputs": [
        {
          "output_type": "stream",
          "name": "stdout",
          "text": [
            "+----------------+------------------+-----------------+------------------+-----------------+------------------+\n",
            "|avg(Humidity3pm)|  avg(Pressure9am)| avg(Humidity9am)|  avg(Pressure3pm)|     avg(Temp3pm)|      avg(Temp9am)|\n",
            "+----------------+------------------+-----------------+------------------+-----------------+------------------+\n",
            "|51.5391158755046|1017.6499397947478|68.88083133761887|1015.2558887915008|21.68339031665222|16.990631418377568|\n",
            "+----------------+------------------+-----------------+------------------+-----------------+------------------+\n",
            "\n"
          ]
        }
      ],
      "source": [
        "df.agg({\"Humidity9am\":\"avg\",   \n",
        "        \"Humidity3pm\":\"avg\",   \n",
        "        \"Pressure9am\":\"avg\",  \n",
        "        \"Pressure3pm\":\"avg\",\n",
        "        \"Temp9am\":\"avg\",  \n",
        "        \"Temp3pm\":\"avg\"}).show()   "
      ]
    },
    {
      "cell_type": "code",
      "execution_count": 117,
      "metadata": {
        "id": "g2x-a6Tkrnws"
      },
      "outputs": [],
      "source": [
        "df = df.na.fill(1017.7,subset=[\"Pressure9am\"])\n",
        "df = df.na.fill(1015.3,subset=[\"Pressure3pm\"])\n",
        "df = df.na.fill(69,subset=[\"Humidity9am\"])\n",
        "df = df.na.fill(52,subset=[\"Humidity3pm\"])\n",
        "df = df.na.fill(17.0,subset=[\"Temp9am\"])\n",
        "df = df.na.fill(21.7,subset=[\"Temp3pm\"])"
      ]
    },
    {
      "cell_type": "code",
      "execution_count": 118,
      "metadata": {
        "colab": {
          "base_uri": "https://localhost:8080/"
        },
        "id": "t7LfhYDRrnwt",
        "outputId": "632a24fd-547a-447f-81b1-012adfeac146"
      },
      "outputs": [
        {
          "output_type": "stream",
          "name": "stdout",
          "text": [
            "Date   0\n",
            "Location   0\n",
            "MinTemp   0\n",
            "MaxTemp   0\n",
            "Rainfall   0\n",
            "WindGustDir   0\n",
            "WindGustSpeed   0\n",
            "WindDir9am   0\n",
            "WindDir3pm   0\n",
            "WindSpeed9am   0\n",
            "WindSpeed3pm   0\n",
            "Humidity9am   0\n",
            "Humidity3pm   0\n",
            "Pressure9am   0\n",
            "Pressure3pm   0\n",
            "Temp9am   0\n",
            "Temp3pm   0\n",
            "RainToday   0\n",
            "RainTomorrow   0\n"
          ]
        }
      ],
      "source": [
        "for col in df.columns:\n",
        "    print(col,\" \",df.filter(df[col].isNull()).count() )"
      ]
    },
    {
      "cell_type": "code",
      "execution_count": 119,
      "metadata": {
        "colab": {
          "base_uri": "https://localhost:8080/"
        },
        "id": "QNCdN_nernww",
        "outputId": "559247a6-dfd5-49b9-c274-0ee395013782"
      },
      "outputs": [
        {
          "output_type": "stream",
          "name": "stdout",
          "text": [
            "+---------+------------+-----+\n",
            "|RainToday|RainTomorrow|count|\n",
            "+---------+------------+-----+\n",
            "|       NA|         Yes|  676|\n",
            "|      Yes|         Yes|14597|\n",
            "|       No|          No|92728|\n",
            "|       No|          NA|  987|\n",
            "|      Yes|          No|16858|\n",
            "|       NA|          No|  730|\n",
            "|       NA|          NA| 1855|\n",
            "|       No|         Yes|16604|\n",
            "|      Yes|          NA|  425|\n",
            "+---------+------------+-----+\n",
            "\n"
          ]
        }
      ],
      "source": [
        "df.groupBy(\"RainToday\",\"RainTomorrow\").count().show()"
      ]
    },
    {
      "source": [
        "<h3> Se aprecia que el valor NA no es válido para si llovió o no. Siendo RainTomorrow el valor a predecir y RainToday esencial para esa predicción, se eliminan todas las tuplas en las que uno de estos dos atributos posea ese valor."
      ],
      "cell_type": "markdown",
      "metadata": {
        "id": "mls_TMuarnw7"
      }
    },
    {
      "cell_type": "code",
      "execution_count": 120,
      "metadata": {
        "colab": {
          "base_uri": "https://localhost:8080/"
        },
        "id": "33kHMhBBrnw8",
        "outputId": "4b845241-d46f-4f9d-878a-41d41b892c1d"
      },
      "outputs": [
        {
          "output_type": "stream",
          "name": "stdout",
          "text": [
            "+---------+------------+-----+\n",
            "|RainToday|RainTomorrow|count|\n",
            "+---------+------------+-----+\n",
            "|       NA|         Yes|  676|\n",
            "|      Yes|         Yes|14597|\n",
            "|       No|          No|92728|\n",
            "|       No|          NA|  987|\n",
            "|      Yes|          No|16858|\n",
            "|       NA|          No|  730|\n",
            "|       NA|          NA| 1855|\n",
            "|       No|         Yes|16604|\n",
            "|      Yes|          NA|  425|\n",
            "+---------+------------+-----+\n",
            "\n"
          ]
        }
      ],
      "source": [
        "df.groupBy(\"RainToday\",\"RainTomorrow\").count().show()\n"
      ]
    },
    {
      "cell_type": "code",
      "execution_count": 121,
      "metadata": {
        "id": "cek-7hZGrnw9"
      },
      "outputs": [],
      "source": [
        "df = df.filter(df.RainToday != \"NA\")\n",
        "df = df.filter(df.RainTomorrow != \"NA\")"
      ]
    },
    {
      "cell_type": "code",
      "execution_count": 122,
      "metadata": {
        "colab": {
          "base_uri": "https://localhost:8080/"
        },
        "id": "EeLzHQZ-rnw-",
        "outputId": "759ce9a5-b8cf-422e-c275-8bcaff37bdf0"
      },
      "outputs": [
        {
          "output_type": "stream",
          "name": "stdout",
          "text": [
            "+---------+------------+-----+\n",
            "|RainToday|RainTomorrow|count|\n",
            "+---------+------------+-----+\n",
            "|      Yes|         Yes|14597|\n",
            "|       No|          No|92728|\n",
            "|      Yes|          No|16858|\n",
            "|       No|         Yes|16604|\n",
            "+---------+------------+-----+\n",
            "\n"
          ]
        }
      ],
      "source": [
        "df.groupBy(\"RainToday\",\"RainTomorrow\").count().show()"
      ]
    },
    {
      "cell_type": "code",
      "execution_count": 123,
      "metadata": {
        "colab": {
          "base_uri": "https://localhost:8080/"
        },
        "id": "OnV_vrbsrnxA",
        "outputId": "d53538ad-13bc-49e9-9125-ba00ae3374fd"
      },
      "outputs": [
        {
          "output_type": "execute_result",
          "data": {
            "text/plain": [
              "140787"
            ]
          },
          "metadata": {},
          "execution_count": 123
        }
      ],
      "source": [
        "df.count()"
      ]
    },
    {
      "source": [
        "<h3> Veamos las estadísticas"
      ],
      "cell_type": "markdown",
      "metadata": {
        "id": "awvGs4VFrnxB"
      }
    },
    {
      "cell_type": "code",
      "execution_count": 124,
      "metadata": {
        "colab": {
          "base_uri": "https://localhost:8080/"
        },
        "id": "cS5B0V8VrnxK",
        "outputId": "03e5750b-47d5-4bdd-8bad-6d6552694c06"
      },
      "outputs": [
        {
          "output_type": "stream",
          "name": "stdout",
          "text": [
            "['MinTemp', 'MaxTemp', 'Rainfall', 'WindGustSpeed', 'WindSpeed9am', 'WindSpeed3pm', 'Humidity9am', 'Humidity3pm', 'Pressure9am', 'Pressure3pm', 'Temp9am', 'Temp3pm']\n"
          ]
        }
      ],
      "source": [
        "num_cols = [col[0] for col in df.dtypes if col[1]==\"int\" or col[1]==\"float\"]\n",
        "print(num_cols)"
      ]
    },
    {
      "cell_type": "code",
      "execution_count": 125,
      "metadata": {
        "colab": {
          "base_uri": "https://localhost:8080/"
        },
        "id": "6PKNnC1IrnxL",
        "outputId": "a2abab3d-703d-4006-fd07-c06079693880"
      },
      "outputs": [
        {
          "output_type": "execute_result",
          "data": {
            "text/plain": [
              "Column<'features'>"
            ]
          },
          "metadata": {},
          "execution_count": 125
        }
      ],
      "source": [
        "from pyspark.ml.feature import VectorAssembler\n",
        "from pyspark.ml.stat import Summarizer\n",
        "\n",
        "summarizer = Summarizer.metrics(\"mean\",\"std\")\n",
        "\n",
        "vecAssembler = VectorAssembler(outputCol=\"features\")\n",
        "\n",
        "vecAssembler.setInputCols(num_cols)\n",
        "vector_df = vecAssembler.transform(df)\n",
        "vector_df.features"
      ]
    },
    {
      "cell_type": "code",
      "execution_count": 126,
      "metadata": {
        "colab": {
          "base_uri": "https://localhost:8080/"
        },
        "id": "n7eGnSo4rnxN",
        "outputId": "b5f8eae0-adba-4cee-cf8d-284e6c6b5fb4"
      },
      "outputs": [
        {
          "output_type": "stream",
          "name": "stdout",
          "text": [
            "['MinTemp', 'MaxTemp', 'Rainfall', 'WindGustSpeed', 'WindSpeed9am', 'WindSpeed3pm', 'Humidity9am', 'Humidity3pm', 'Pressure9am', 'Pressure3pm', 'Temp9am', 'Temp3pm']\n",
            "[Row(mean(features)=DenseVector([12.1849, 23.2351, 2.35, 39.9724, 13.9906, 18.6378, 68.8287, 51.463, 1017.659, 1015.2621, 16.9871, 21.6933]))]\n"
          ]
        },
        {
          "output_type": "execute_result",
          "data": {
            "text/plain": [
              "[Row(std(features)=DenseVector([6.3932, 7.1067, 8.4652, 13.1318, 8.8529, 8.7188, 18.9607, 20.5471, 6.7492, 6.6825, 6.4809, 6.8728]))]"
            ]
          },
          "metadata": {},
          "execution_count": 126
        }
      ],
      "source": [
        "print(num_cols)\n",
        "\n",
        "print(vector_df.select(Summarizer.mean(vector_df.features)).collect())\n",
        "\n",
        "vector_df.select(Summarizer.std(vector_df.features)).collect()\n",
        "    \n"
      ]
    },
    {
      "source": [
        "<h3> Veamos la correlación"
      ],
      "cell_type": "markdown",
      "metadata": {
        "id": "FbqMkuq4rnxO"
      }
    },
    {
      "cell_type": "code",
      "execution_count": 127,
      "metadata": {
        "colab": {
          "base_uri": "https://localhost:8080/"
        },
        "id": "GuQcp4gurnxO",
        "outputId": "ef74fd60-5676-44e0-f8a9-05de769924ab"
      },
      "outputs": [
        {
          "output_type": "stream",
          "name": "stdout",
          "text": [
            "Pearson correlation matrix:\n",
            "DenseMatrix([[ 1.        ,  0.73444283,  0.10375978,  0.17410708,  0.17492971,\n",
            "               0.17438453, -0.23287998,  0.00577637, -0.42521122, -0.4351291 ,\n",
            "               0.89893955,  0.70021913],\n",
            "             [ 0.73444283,  1.        , -0.07460166,  0.06713946,  0.01440618,\n",
            "               0.0506871 , -0.50143741, -0.50055238, -0.30939075, -0.39802387,\n",
            "               0.8817381 ,  0.97034128],\n",
            "             [ 0.10375978, -0.07460166,  1.        ,  0.1279515 ,  0.08638767,\n",
            "               0.05710754,  0.22216978,  0.25072481, -0.16039851, -0.1209499 ,\n",
            "               0.01142786, -0.07791177],\n",
            "             [ 0.17410708,  0.06713946,  0.1279515 ,  1.        ,  0.57815673,\n",
            "               0.65899914, -0.20913422, -0.02575603, -0.42686455, -0.38490115,\n",
            "               0.14724441,  0.03280452],\n",
            "             [ 0.17492971,  0.01440618,  0.08638767,  0.57815673,  1.        ,\n",
            "               0.51333483, -0.26884865, -0.03116889, -0.21503559, -0.16489759,\n",
            "               0.12862388,  0.00479995],\n",
            "             [ 0.17438453,  0.0506871 ,  0.05710754,  0.65899914,  0.51333483,\n",
            "               1.        , -0.14425896,  0.01584082, -0.27753247, -0.23996397,\n",
            "               0.1626266 ,  0.02871189],\n",
            "             [-0.23287998, -0.50143741,  0.22216978, -0.20913422, -0.26884865,\n",
            "              -0.14425896,  1.        ,  0.66100442,  0.13121118,  0.1759827 ,\n",
            "              -0.47163616, -0.49380985],\n",
            "             [ 0.00577637, -0.50055238,  0.25072481, -0.02575603, -0.03116889,\n",
            "               0.01584082,  0.66100442,  1.        , -0.02642216,  0.04800364,\n",
            "              -0.2183047 , -0.55634896],\n",
            "             [-0.42521122, -0.30939075, -0.16039851, -0.42686455, -0.21503559,\n",
            "              -0.27753247,  0.13121118, -0.02642216,  1.        ,  0.96005088,\n",
            "              -0.39797285, -0.26645945],\n",
            "             [-0.4351291 , -0.39802387, -0.1209499 , -0.38490115, -0.16489759,\n",
            "              -0.23996397,  0.1759827 ,  0.04800364,  0.96005088,  1.        ,\n",
            "              -0.44258197, -0.36171485],\n",
            "             [ 0.89893955,  0.8817381 ,  0.01142786,  0.14724441,  0.12862388,\n",
            "               0.1626266 , -0.47163616, -0.2183047 , -0.39797285, -0.44258197,\n",
            "               1.        ,  0.84801757],\n",
            "             [ 0.70021913,  0.97034128, -0.07791177,  0.03280452,  0.00479995,\n",
            "               0.02871189, -0.49380985, -0.55634896, -0.26645945, -0.36171485,\n",
            "               0.84801757,  1.        ]])\n",
            "\n"
          ]
        }
      ],
      "source": [
        "from pyspark.ml.stat import Correlation\n",
        "\n",
        "# compute r1 0 Pearson correlation\n",
        "r1 = Correlation.corr(vector_df, \"features\").head()\n",
        "print(\"Pearson correlation matrix:\\n\" + str(r1[0])+ \"\\n\")"
      ]
    },
    {
      "cell_type": "code",
      "execution_count": 128,
      "metadata": {
        "id": "WaOAhaAgrnxP"
      },
      "outputs": [],
      "source": [
        "import numpy as np\n"
      ]
    },
    {
      "cell_type": "code",
      "execution_count": 129,
      "metadata": {
        "colab": {
          "base_uri": "https://localhost:8080/"
        },
        "id": "P-bi43QRrnxQ",
        "outputId": "7b27a5d9-69b9-4146-964f-7ec0e10f48c2"
      },
      "outputs": [
        {
          "output_type": "stream",
          "name": "stdout",
          "text": [
            "1.0\t0.73\t0.1\t0.17\t0.17\t0.17\t-0.23\t0.01\t-0.43\t-0.44\t0.9\t0.7\t\n",
            "0.73\t1.0\t-0.07\t0.07\t0.01\t0.05\t-0.5\t-0.5\t-0.31\t-0.4\t0.88\t0.97\t\n",
            "0.1\t-0.07\t1.0\t0.13\t0.09\t0.06\t0.22\t0.25\t-0.16\t-0.12\t0.01\t-0.08\t\n",
            "0.17\t0.07\t0.13\t1.0\t0.58\t0.66\t-0.21\t-0.03\t-0.43\t-0.38\t0.15\t0.03\t\n",
            "0.17\t0.01\t0.09\t0.58\t1.0\t0.51\t-0.27\t-0.03\t-0.22\t-0.16\t0.13\t0.0\t\n",
            "0.17\t0.05\t0.06\t0.66\t0.51\t1.0\t-0.14\t0.02\t-0.28\t-0.24\t0.16\t0.03\t\n",
            "-0.23\t-0.5\t0.22\t-0.21\t-0.27\t-0.14\t1.0\t0.66\t0.13\t0.18\t-0.47\t-0.49\t\n",
            "0.01\t-0.5\t0.25\t-0.03\t-0.03\t0.02\t0.66\t1.0\t-0.03\t0.05\t-0.22\t-0.56\t\n",
            "-0.43\t-0.31\t-0.16\t-0.43\t-0.22\t-0.28\t0.13\t-0.03\t1.0\t0.96\t-0.4\t-0.27\t\n",
            "-0.44\t-0.4\t-0.12\t-0.38\t-0.16\t-0.24\t0.18\t0.05\t0.96\t1.0\t-0.44\t-0.36\t\n",
            "0.9\t0.88\t0.01\t0.15\t0.13\t0.16\t-0.47\t-0.22\t-0.4\t-0.44\t1.0\t0.85\t\n",
            "0.7\t0.97\t-0.08\t0.03\t0.0\t0.03\t-0.49\t-0.56\t-0.27\t-0.36\t0.85\t1.0\t\n"
          ]
        }
      ],
      "source": [
        "\n",
        "for i in range(0,len(num_cols)):\n",
        "    for j in range(0,len(num_cols)):\n",
        "        print(np.round(r1[0][i,j],2), end=\"\\t\")\n",
        "    print()\n"
      ]
    },
    {
      "source": [
        "<h3> Se puede apreciar una alta correlacion entre las temperaturas a las 9am y a las 3pm con las Temperaturas Maxima y Minima. Por lo tanto excluiremos también estos rasgos<\\h3>\n",
        "<h3> También se aprecia que los dos valores de presión se encuentran altamente correlacionados. (Se resuelve luego)"
      ],
      "cell_type": "markdown",
      "metadata": {
        "id": "o1NtFSZFrnxS"
      }
    },
    {
      "cell_type": "code",
      "execution_count": 130,
      "metadata": {
        "id": "_f9FvktWrnxT"
      },
      "outputs": [],
      "source": [
        "df = df.drop('Temp9am', 'Temp3pm')"
      ]
    },
    {
      "cell_type": "code",
      "source": [
        "sql = df.select('RainFall','Date')\n",
        "pandasDF = sql.toPandas()\n",
        "pandasDF.plot(kind='line',x='Date',y='RainFall',color=\"r\")"
      ],
      "metadata": {
        "colab": {
          "base_uri": "https://localhost:8080/",
          "height": 467
        },
        "id": "SE6LvbzqYbJJ",
        "outputId": "ae1d6212-567a-4ed2-8d71-a494970157ad"
      },
      "execution_count": 131,
      "outputs": [
        {
          "output_type": "execute_result",
          "data": {
            "text/plain": [
              "<Axes: xlabel='Date'>"
            ]
          },
          "metadata": {},
          "execution_count": 131
        },
        {
          "output_type": "display_data",
          "data": {
            "text/plain": [
              "<Figure size 640x480 with 1 Axes>"
            ],
            "image/png": "[encoded data removed]"
          },
          "metadata": {}
        }
      ]
    },
    {
      "source": [
        "<h1> Featuring Engineering"
      ],
      "cell_type": "markdown",
      "metadata": {
        "id": "E8-8gaHgrnxV"
      }
    },
    {
      "source": [
        "<h2>Cambios</h2>\n",
        "<h3><ul>\n",
        "<li>La fecha la transformaremos a día del año int[1-365] para que se tenga en cuenta no solo la cercanía de fechas del mismo año, sino también de fechas que coinciden en época aunque en años distintos y se elimina el atributo fecha</li>\n",
        "<li>Se busca la presión media y una vez hecho se eliminan las dos columnas existentes</li>\n",
        "<li>RainToday y RainTomorrow se transforman a 0(no llueve) 1(si llueve)</li>\n",
        "<li>Solo se deja los valores de vientos general, se eliminan los de horarios</li>\n",
        "</ul>"
      ],
      "cell_type": "markdown",
      "metadata": {
        "id": "_yuPyUFnrnxW"
      }
    },
    {
      "source": [
        "<h3> Transformando la fecha"
      ],
      "cell_type": "markdown",
      "metadata": {
        "id": "fEG5SEeZrnxX"
      }
    },
    {
      "cell_type": "code",
      "execution_count": 132,
      "metadata": {
        "id": "loW_3uEurnxY"
      },
      "outputs": [],
      "source": [
        "def getDay(row):\n",
        "    rowDict=row.asDict()\n",
        "    newDate = int(rowDict.get(\"Date\").strftime(\"%j\"))\n",
        "    rowDict[\"DayYear\"] = newDate\n",
        "    return rowDict"
      ]
    },
    {
      "cell_type": "code",
      "execution_count": 133,
      "metadata": {
        "tags": [],
        "id": "e-jrMLLLrnxZ"
      },
      "outputs": [],
      "source": [
        "temp = df.rdd.map(getDay)"
      ]
    },
    {
      "cell_type": "code",
      "execution_count": 134,
      "metadata": {
        "id": "-UrJJ9e7rnxa"
      },
      "outputs": [],
      "source": [
        "from pyspark.sql.types import IntegerType\n",
        "inputSchema = df.schema\n",
        "newSchema = inputSchema.add(\"DayYear\",IntegerType())"
      ]
    },
    {
      "cell_type": "code",
      "source": [
        "df = spark.createDataFrame(temp,newSchema)"
      ],
      "metadata": {
        "id": "Q0U1epD-u2m5"
      },
      "execution_count": 135,
      "outputs": []
    },
    {
      "cell_type": "code",
      "source": [
        "df = df.drop(\"Date\")\n",
        "df.show(5)"
      ],
      "metadata": {
        "colab": {
          "base_uri": "https://localhost:8080/"
        },
        "id": "SxiOnSIHu9IJ",
        "outputId": "13d13dde-bfab-48fd-dc0a-bfab237a812c"
      },
      "execution_count": 136,
      "outputs": [
        {
          "output_type": "stream",
          "name": "stdout",
          "text": [
            "+--------+-------+-------+--------+-----------+-------------+----------+----------+------------+------------+-----------+-----------+-----------+-----------+---------+------------+-------+\n",
            "|Location|MinTemp|MaxTemp|Rainfall|WindGustDir|WindGustSpeed|WindDir9am|WindDir3pm|WindSpeed9am|WindSpeed3pm|Humidity9am|Humidity3pm|Pressure9am|Pressure3pm|RainToday|RainTomorrow|DayYear|\n",
            "+--------+-------+-------+--------+-----------+-------------+----------+----------+------------+------------+-----------+-----------+-----------+-----------+---------+------------+-------+\n",
            "|  Albury|   13.4|   22.9|     0.6|          W|           44|         W|       WNW|          20|          24|         71|         22|     1007.7|     1007.1|       No|          No|    336|\n",
            "|  Albury|    7.4|   25.1|     0.0|        WNW|           44|       NNW|       WSW|           4|          22|         44|         25|     1010.6|     1007.8|       No|          No|    337|\n",
            "|  Albury|   12.9|   25.7|     0.0|        WSW|           46|         W|       WSW|          19|          26|         38|         30|     1007.6|     1008.7|       No|          No|    338|\n",
            "|  Albury|    9.2|   28.0|     0.0|         NE|           24|        SE|         E|          11|           9|         45|         16|     1017.6|     1012.8|       No|          No|    339|\n",
            "|  Albury|   17.5|   32.3|     1.0|          W|           41|       ENE|        NW|           7|          20|         82|         33|     1010.8|     1006.0|       No|          No|    340|\n",
            "+--------+-------+-------+--------+-----------+-------------+----------+----------+------------+------------+-----------+-----------+-----------+-----------+---------+------------+-------+\n",
            "only showing top 5 rows\n",
            "\n"
          ]
        }
      ]
    },
    {
      "cell_type": "code",
      "source": [
        "def genPressMed(row):\n",
        "    rowDict=row.asDict()\n",
        "    pMed = (rowDict.get(\"Pressure3pm\")+rowDict.get(\"Pressure9am\"))/2.0\n",
        "    rowDict[\"MedPressure\"] = pMed\n",
        "    return rowDict"
      ],
      "metadata": {
        "id": "oT26qPfsvg8Y"
      },
      "execution_count": 137,
      "outputs": []
    },
    {
      "cell_type": "code",
      "source": [
        "temp = df.rdd.map(genPressMed)"
      ],
      "metadata": {
        "id": "Zn9TfsLiyEbe"
      },
      "execution_count": 138,
      "outputs": []
    },
    {
      "cell_type": "code",
      "source": [
        "from pyspark.sql.types import FloatType\n",
        "inputSchema = df.schema\n",
        "newSchema = inputSchema.add(\"MedPressure\",FloatType())\n",
        "\n"
      ],
      "metadata": {
        "id": "DDKUF2-uwtfg"
      },
      "execution_count": 139,
      "outputs": []
    },
    {
      "cell_type": "code",
      "source": [
        "df = spark.createDataFrame(temp,newSchema)"
      ],
      "metadata": {
        "id": "wfxSb0ocwtbY"
      },
      "execution_count": 140,
      "outputs": []
    },
    {
      "cell_type": "code",
      "source": [
        "df.show()"
      ],
      "metadata": {
        "colab": {
          "base_uri": "https://localhost:8080/"
        },
        "id": "lWS6TH0swtGJ",
        "outputId": "ed4ebdd9-17b1-4a34-bd7b-b2f81fa3b61f"
      },
      "execution_count": 141,
      "outputs": [
        {
          "output_type": "stream",
          "name": "stdout",
          "text": [
            "+--------+-------+-------+--------+-----------+-------------+----------+----------+------------+------------+-----------+-----------+-----------+-----------+---------+------------+-------+-----------+\n",
            "|Location|MinTemp|MaxTemp|Rainfall|WindGustDir|WindGustSpeed|WindDir9am|WindDir3pm|WindSpeed9am|WindSpeed3pm|Humidity9am|Humidity3pm|Pressure9am|Pressure3pm|RainToday|RainTomorrow|DayYear|MedPressure|\n",
            "+--------+-------+-------+--------+-----------+-------------+----------+----------+------------+------------+-----------+-----------+-----------+-----------+---------+------------+-------+-----------+\n",
            "|  Albury|   13.4|   22.9|     0.6|          W|           44|         W|       WNW|          20|          24|         71|         22|     1007.7|     1007.1|       No|          No|    336|     1007.4|\n",
            "|  Albury|    7.4|   25.1|     0.0|        WNW|           44|       NNW|       WSW|           4|          22|         44|         25|     1010.6|     1007.8|       No|          No|    337| 1009.19995|\n",
            "|  Albury|   12.9|   25.7|     0.0|        WSW|           46|         W|       WSW|          19|          26|         38|         30|     1007.6|     1008.7|       No|          No|    338|    1008.15|\n",
            "|  Albury|    9.2|   28.0|     0.0|         NE|           24|        SE|         E|          11|           9|         45|         16|     1017.6|     1012.8|       No|          No|    339| 1015.19995|\n",
            "|  Albury|   17.5|   32.3|     1.0|          W|           41|       ENE|        NW|           7|          20|         82|         33|     1010.8|     1006.0|       No|          No|    340|     1008.4|\n",
            "|  Albury|   14.6|   29.7|     0.2|        WNW|           56|         W|         W|          19|          24|         55|         23|     1009.2|     1005.4|       No|          No|    341| 1007.30005|\n",
            "|  Albury|   14.3|   25.0|     0.0|          W|           50|        SW|         W|          20|          24|         49|         19|     1009.6|     1008.2|       No|          No|    342|     1008.9|\n",
            "|  Albury|    7.7|   26.7|     0.0|          W|           35|       SSE|         W|           6|          17|         48|         19|     1013.4|     1010.1|       No|          No|    343|    1011.75|\n",
            "|  Albury|    9.7|   31.9|     0.0|        NNW|           80|        SE|        NW|           7|          28|         42|          9|     1008.9|     1003.6|       No|         Yes|    344|    1006.25|\n",
            "|  Albury|   13.1|   30.1|     1.4|          W|           28|         S|       SSE|          15|          11|         58|         27|     1007.0|     1005.7|      Yes|          No|    345|    1006.35|\n",
            "|  Albury|   13.4|   30.4|     0.0|          N|           30|       SSE|       ESE|          17|           6|         48|         22|     1011.8|     1008.7|       No|         Yes|    346|    1010.25|\n",
            "|  Albury|   15.9|   21.7|     2.2|        NNE|           31|        NE|       ENE|          15|          13|         89|         91|     1010.5|     1004.2|      Yes|         Yes|    347|    1007.35|\n",
            "|  Albury|   15.9|   18.6|    15.6|          W|           61|       NNW|       NNW|          28|          28|         76|         93|      994.3|      993.0|      Yes|         Yes|    348|     993.65|\n",
            "|  Albury|   12.6|   21.0|     3.6|         SW|           44|         W|       SSW|          24|          20|         65|         43|     1001.2|     1001.8|      Yes|          No|    349|     1001.5|\n",
            "|  Albury|   14.1|   20.9|     0.0|        ENE|           22|       SSW|         E|          11|           9|         69|         82|     1012.2|     1010.4|       No|         Yes|    352| 1011.30005|\n",
            "|  Albury|   13.5|   22.9|    16.8|          W|           63|         N|       WNW|           6|          20|         80|         65|     1005.8|     1002.2|      Yes|         Yes|    353|     1004.0|\n",
            "|  Albury|   11.2|   22.5|    10.6|        SSE|           43|       WSW|        SW|          24|          17|         47|         32|     1009.4|     1009.7|      Yes|          No|    354| 1009.55005|\n",
            "|  Albury|    9.8|   25.6|     0.0|        SSE|           26|        SE|       NNW|          17|           6|         45|         26|     1019.2|     1017.1|       No|          No|    355|    1018.15|\n",
            "|  Albury|   11.5|   29.3|     0.0|          S|           24|        SE|        SE|           9|           9|         56|         28|     1019.3|     1014.8|       No|          No|    356|    1017.05|\n",
            "|  Albury|   17.1|   33.0|     0.0|         NE|           43|        NE|         N|          17|          22|         38|         28|     1013.6|     1008.1|       No|          No|    357|    1010.85|\n",
            "+--------+-------+-------+--------+-----------+-------------+----------+----------+------------+------------+-----------+-----------+-----------+-----------+---------+------------+-------+-----------+\n",
            "only showing top 20 rows\n",
            "\n"
          ]
        }
      ]
    },
    {
      "cell_type": "code",
      "source": [
        "df = df.drop(\"Pressure3pm\",\"Pressure9am\")"
      ],
      "metadata": {
        "id": "KezKSUxC05RC"
      },
      "execution_count": 142,
      "outputs": []
    },
    {
      "cell_type": "code",
      "source": [
        "df.show()"
      ],
      "metadata": {
        "colab": {
          "base_uri": "https://localhost:8080/"
        },
        "id": "PKc6gWYl2z-F",
        "outputId": "8df29cbd-1e6c-4f87-c7aa-8d5d8f3f8077"
      },
      "execution_count": 143,
      "outputs": [
        {
          "output_type": "stream",
          "name": "stdout",
          "text": [
            "+--------+-------+-------+--------+-----------+-------------+----------+----------+------------+------------+-----------+-----------+---------+------------+-------+-----------+\n",
            "|Location|MinTemp|MaxTemp|Rainfall|WindGustDir|WindGustSpeed|WindDir9am|WindDir3pm|WindSpeed9am|WindSpeed3pm|Humidity9am|Humidity3pm|RainToday|RainTomorrow|DayYear|MedPressure|\n",
            "+--------+-------+-------+--------+-----------+-------------+----------+----------+------------+------------+-----------+-----------+---------+------------+-------+-----------+\n",
            "|  Albury|   13.4|   22.9|     0.6|          W|           44|         W|       WNW|          20|          24|         71|         22|       No|          No|    336|     1007.4|\n",
            "|  Albury|    7.4|   25.1|     0.0|        WNW|           44|       NNW|       WSW|           4|          22|         44|         25|       No|          No|    337| 1009.19995|\n",
            "|  Albury|   12.9|   25.7|     0.0|        WSW|           46|         W|       WSW|          19|          26|         38|         30|       No|          No|    338|    1008.15|\n",
            "|  Albury|    9.2|   28.0|     0.0|         NE|           24|        SE|         E|          11|           9|         45|         16|       No|          No|    339| 1015.19995|\n",
            "|  Albury|   17.5|   32.3|     1.0|          W|           41|       ENE|        NW|           7|          20|         82|         33|       No|          No|    340|     1008.4|\n",
            "|  Albury|   14.6|   29.7|     0.2|        WNW|           56|         W|         W|          19|          24|         55|         23|       No|          No|    341| 1007.30005|\n",
            "|  Albury|   14.3|   25.0|     0.0|          W|           50|        SW|         W|          20|          24|         49|         19|       No|          No|    342|     1008.9|\n",
            "|  Albury|    7.7|   26.7|     0.0|          W|           35|       SSE|         W|           6|          17|         48|         19|       No|          No|    343|    1011.75|\n",
            "|  Albury|    9.7|   31.9|     0.0|        NNW|           80|        SE|        NW|           7|          28|         42|          9|       No|         Yes|    344|    1006.25|\n",
            "|  Albury|   13.1|   30.1|     1.4|          W|           28|         S|       SSE|          15|          11|         58|         27|      Yes|          No|    345|    1006.35|\n",
            "|  Albury|   13.4|   30.4|     0.0|          N|           30|       SSE|       ESE|          17|           6|         48|         22|       No|         Yes|    346|    1010.25|\n",
            "|  Albury|   15.9|   21.7|     2.2|        NNE|           31|        NE|       ENE|          15|          13|         89|         91|      Yes|         Yes|    347|    1007.35|\n",
            "|  Albury|   15.9|   18.6|    15.6|          W|           61|       NNW|       NNW|          28|          28|         76|         93|      Yes|         Yes|    348|     993.65|\n",
            "|  Albury|   12.6|   21.0|     3.6|         SW|           44|         W|       SSW|          24|          20|         65|         43|      Yes|          No|    349|     1001.5|\n",
            "|  Albury|   14.1|   20.9|     0.0|        ENE|           22|       SSW|         E|          11|           9|         69|         82|       No|         Yes|    352| 1011.30005|\n",
            "|  Albury|   13.5|   22.9|    16.8|          W|           63|         N|       WNW|           6|          20|         80|         65|      Yes|         Yes|    353|     1004.0|\n",
            "|  Albury|   11.2|   22.5|    10.6|        SSE|           43|       WSW|        SW|          24|          17|         47|         32|      Yes|          No|    354| 1009.55005|\n",
            "|  Albury|    9.8|   25.6|     0.0|        SSE|           26|        SE|       NNW|          17|           6|         45|         26|       No|          No|    355|    1018.15|\n",
            "|  Albury|   11.5|   29.3|     0.0|          S|           24|        SE|        SE|           9|           9|         56|         28|       No|          No|    356|    1017.05|\n",
            "|  Albury|   17.1|   33.0|     0.0|         NE|           43|        NE|         N|          17|          22|         38|         28|       No|          No|    357|    1010.85|\n",
            "+--------+-------+-------+--------+-----------+-------------+----------+----------+------------+------------+-----------+-----------+---------+------------+-------+-----------+\n",
            "only showing top 20 rows\n",
            "\n"
          ]
        }
      ]
    },
    {
      "cell_type": "code",
      "source": [
        "def llevar01(row):\n",
        "    rowDict=row.asDict()\n",
        "    RainTodayBin = 0\n",
        "    if(rowDict.get(\"RainToday\")==\"No\"):\n",
        "        RainTodayBin = 0\n",
        "    else:\n",
        "        RainTodayBin = 1\n",
        "    \n",
        "    RainTomorrowBin = 0\n",
        "    if(rowDict.get(\"RainToday\")==\"No\"):\n",
        "        RainTomorrowBin = 0\n",
        "    else:\n",
        "        RainTomorrowBin = 1\n",
        "    rowDict[\"RainTomorrowBin\"] = RainTomorrowBin\n",
        "    rowDict[\"RainTodayBin\"] = RainTodayBin\n",
        "    return rowDict"
      ],
      "metadata": {
        "id": "RmLfGvsd3MMr"
      },
      "execution_count": 144,
      "outputs": []
    },
    {
      "cell_type": "code",
      "source": [
        "temp = df.rdd.map(llevar01)"
      ],
      "metadata": {
        "id": "qtkzOBsC4kkU"
      },
      "execution_count": 145,
      "outputs": []
    },
    {
      "cell_type": "code",
      "source": [
        "inputSchema = df.schema\n",
        "newSchema = inputSchema.add(\"RainTodayBin\",IntegerType()).add(\"RainTomorrowBin\",IntegerType())"
      ],
      "metadata": {
        "id": "lK97t0e14yOS"
      },
      "execution_count": 146,
      "outputs": []
    },
    {
      "cell_type": "code",
      "source": [
        "df = spark.createDataFrame(temp,newSchema)\n",
        "df.show()"
      ],
      "metadata": {
        "colab": {
          "base_uri": "https://localhost:8080/"
        },
        "id": "b2XhHkVm5FZL",
        "outputId": "d90d93bf-2381-4f25-a7ae-864d88a708cc"
      },
      "execution_count": 147,
      "outputs": [
        {
          "output_type": "stream",
          "name": "stdout",
          "text": [
            "+--------+-------+-------+--------+-----------+-------------+----------+----------+------------+------------+-----------+-----------+---------+------------+-------+-----------+------------+---------------+\n",
            "|Location|MinTemp|MaxTemp|Rainfall|WindGustDir|WindGustSpeed|WindDir9am|WindDir3pm|WindSpeed9am|WindSpeed3pm|Humidity9am|Humidity3pm|RainToday|RainTomorrow|DayYear|MedPressure|RainTodayBin|RainTomorrowBin|\n",
            "+--------+-------+-------+--------+-----------+-------------+----------+----------+------------+------------+-----------+-----------+---------+------------+-------+-----------+------------+---------------+\n",
            "|  Albury|   13.4|   22.9|     0.6|          W|           44|         W|       WNW|          20|          24|         71|         22|       No|          No|    336|     1007.4|           0|              0|\n",
            "|  Albury|    7.4|   25.1|     0.0|        WNW|           44|       NNW|       WSW|           4|          22|         44|         25|       No|          No|    337| 1009.19995|           0|              0|\n",
            "|  Albury|   12.9|   25.7|     0.0|        WSW|           46|         W|       WSW|          19|          26|         38|         30|       No|          No|    338|    1008.15|           0|              0|\n",
            "|  Albury|    9.2|   28.0|     0.0|         NE|           24|        SE|         E|          11|           9|         45|         16|       No|          No|    339| 1015.19995|           0|              0|\n",
            "|  Albury|   17.5|   32.3|     1.0|          W|           41|       ENE|        NW|           7|          20|         82|         33|       No|          No|    340|     1008.4|           0|              0|\n",
            "|  Albury|   14.6|   29.7|     0.2|        WNW|           56|         W|         W|          19|          24|         55|         23|       No|          No|    341| 1007.30005|           0|              0|\n",
            "|  Albury|   14.3|   25.0|     0.0|          W|           50|        SW|         W|          20|          24|         49|         19|       No|          No|    342|     1008.9|           0|              0|\n",
            "|  Albury|    7.7|   26.7|     0.0|          W|           35|       SSE|         W|           6|          17|         48|         19|       No|          No|    343|    1011.75|           0|              0|\n",
            "|  Albury|    9.7|   31.9|     0.0|        NNW|           80|        SE|        NW|           7|          28|         42|          9|       No|         Yes|    344|    1006.25|           0|              0|\n",
            "|  Albury|   13.1|   30.1|     1.4|          W|           28|         S|       SSE|          15|          11|         58|         27|      Yes|          No|    345|    1006.35|           1|              1|\n",
            "|  Albury|   13.4|   30.4|     0.0|          N|           30|       SSE|       ESE|          17|           6|         48|         22|       No|         Yes|    346|    1010.25|           0|              0|\n",
            "|  Albury|   15.9|   21.7|     2.2|        NNE|           31|        NE|       ENE|          15|          13|         89|         91|      Yes|         Yes|    347|    1007.35|           1|              1|\n",
            "|  Albury|   15.9|   18.6|    15.6|          W|           61|       NNW|       NNW|          28|          28|         76|         93|      Yes|         Yes|    348|     993.65|           1|              1|\n",
            "|  Albury|   12.6|   21.0|     3.6|         SW|           44|         W|       SSW|          24|          20|         65|         43|      Yes|          No|    349|     1001.5|           1|              1|\n",
            "|  Albury|   14.1|   20.9|     0.0|        ENE|           22|       SSW|         E|          11|           9|         69|         82|       No|         Yes|    352| 1011.30005|           0|              0|\n",
            "|  Albury|   13.5|   22.9|    16.8|          W|           63|         N|       WNW|           6|          20|         80|         65|      Yes|         Yes|    353|     1004.0|           1|              1|\n",
            "|  Albury|   11.2|   22.5|    10.6|        SSE|           43|       WSW|        SW|          24|          17|         47|         32|      Yes|          No|    354| 1009.55005|           1|              1|\n",
            "|  Albury|    9.8|   25.6|     0.0|        SSE|           26|        SE|       NNW|          17|           6|         45|         26|       No|          No|    355|    1018.15|           0|              0|\n",
            "|  Albury|   11.5|   29.3|     0.0|          S|           24|        SE|        SE|           9|           9|         56|         28|       No|          No|    356|    1017.05|           0|              0|\n",
            "|  Albury|   17.1|   33.0|     0.0|         NE|           43|        NE|         N|          17|          22|         38|         28|       No|          No|    357|    1010.85|           0|              0|\n",
            "+--------+-------+-------+--------+-----------+-------------+----------+----------+------------+------------+-----------+-----------+---------+------------+-------+-----------+------------+---------------+\n",
            "only showing top 20 rows\n",
            "\n"
          ]
        }
      ]
    },
    {
      "cell_type": "code",
      "source": [
        "df = df.drop(\"RainToday\",\"RainTomorrow\")"
      ],
      "metadata": {
        "id": "lJCDLNQ05KmD"
      },
      "execution_count": 148,
      "outputs": []
    },
    {
      "cell_type": "code",
      "source": [
        "type(df.groupBy(\"Location\").count())"
      ],
      "metadata": {
        "colab": {
          "base_uri": "https://localhost:8080/"
        },
        "id": "SQ6bx3L65UXj",
        "outputId": "76390c7a-abcb-46ee-a052-2dc64596f3a2"
      },
      "execution_count": 149,
      "outputs": [
        {
          "output_type": "execute_result",
          "data": {
            "text/plain": [
              "pyspark.sql.dataframe.DataFrame"
            ]
          },
          "metadata": {},
          "execution_count": 149
        }
      ]
    },
    {
      "cell_type": "code",
      "source": [
        "df = df.drop(\"WindDir9am\", \"WindDir3pm\",\"WindSpeed9am\",\"WindSpeed3pm\")\n",
        "df.show(5)"
      ],
      "metadata": {
        "colab": {
          "base_uri": "https://localhost:8080/"
        },
        "id": "8c-0gG2X51rc",
        "outputId": "decb3502-156b-48cd-ff1b-71ee80605d7b"
      },
      "execution_count": 150,
      "outputs": [
        {
          "output_type": "stream",
          "name": "stdout",
          "text": [
            "+--------+-------+-------+--------+-----------+-------------+-----------+-----------+-------+-----------+------------+---------------+\n",
            "|Location|MinTemp|MaxTemp|Rainfall|WindGustDir|WindGustSpeed|Humidity9am|Humidity3pm|DayYear|MedPressure|RainTodayBin|RainTomorrowBin|\n",
            "+--------+-------+-------+--------+-----------+-------------+-----------+-----------+-------+-----------+------------+---------------+\n",
            "|  Albury|   13.4|   22.9|     0.6|          W|           44|         71|         22|    336|     1007.4|           0|              0|\n",
            "|  Albury|    7.4|   25.1|     0.0|        WNW|           44|         44|         25|    337| 1009.19995|           0|              0|\n",
            "|  Albury|   12.9|   25.7|     0.0|        WSW|           46|         38|         30|    338|    1008.15|           0|              0|\n",
            "|  Albury|    9.2|   28.0|     0.0|         NE|           24|         45|         16|    339| 1015.19995|           0|              0|\n",
            "|  Albury|   17.5|   32.3|     1.0|          W|           41|         82|         33|    340|     1008.4|           0|              0|\n",
            "+--------+-------+-------+--------+-----------+-------------+-----------+-----------+-------+-----------+------------+---------------+\n",
            "only showing top 5 rows\n",
            "\n"
          ]
        }
      ]
    },
    {
      "cell_type": "code",
      "source": [
        "#df.write.csv('/content/drive/MyDrive/weatherLimpio.csv',header=True)"
      ],
      "metadata": {
        "id": "dxlgqtTm7OMk"
      },
      "execution_count": 151,
      "outputs": []
    },
    {
      "cell_type": "code",
      "source": [
        "df"
      ],
      "metadata": {
        "colab": {
          "base_uri": "https://localhost:8080/"
        },
        "id": "cRnsujSZ76Xt",
        "outputId": "7cfb285a-5202-4e8a-aae9-1ff3d7580d3c"
      },
      "execution_count": 152,
      "outputs": [
        {
          "output_type": "execute_result",
          "data": {
            "text/plain": [
              "DataFrame[Location: string, MinTemp: float, MaxTemp: float, Rainfall: float, WindGustDir: string, WindGustSpeed: int, Humidity9am: int, Humidity3pm: int, DayYear: int, MedPressure: float, RainTodayBin: int, RainTomorrowBin: int]"
            ]
          },
          "metadata": {},
          "execution_count": 152
        }
      ]
    },
    {
      "cell_type": "code",
      "source": [
        "!pip install pandas"
      ],
      "metadata": {
        "id": "ycg0E4jN8u9M",
        "colab": {
          "base_uri": "https://localhost:8080/"
        },
        "outputId": "321e930b-a151-49f3-bbeb-b66f7684d3af"
      },
      "execution_count": 153,
      "outputs": [
        {
          "output_type": "stream",
          "name": "stdout",
          "text": [
            "Looking in indexes: https://pypi.org/simple, https://us-python.pkg.dev/colab-wheels/public/simple/\n",
            "Requirement already satisfied: pandas in /usr/local/lib/python3.10/dist-packages (1.5.3)\n",
            "Requirement already satisfied: python-dateutil>=2.8.1 in /usr/local/lib/python3.10/dist-packages (from pandas) (2.8.2)\n",
            "Requirement already satisfied: pytz>=2020.1 in /usr/local/lib/python3.10/dist-packages (from pandas) (2022.7.1)\n",
            "Requirement already satisfied: numpy>=1.21.0 in /usr/local/lib/python3.10/dist-packages (from pandas) (1.22.4)\n",
            "Requirement already satisfied: six>=1.5 in /usr/local/lib/python3.10/dist-packages (from python-dateutil>=2.8.1->pandas) (1.16.0)\n"
          ]
        }
      ]
    },
    {
      "cell_type": "code",
      "source": [
        "!pip install matplotlib"
      ],
      "metadata": {
        "colab": {
          "base_uri": "https://localhost:8080/"
        },
        "id": "0kEZ6xmvPkIX",
        "outputId": "b8974a35-a327-4ad8-ce16-d3388e5ddb33"
      },
      "execution_count": 154,
      "outputs": [
        {
          "output_type": "stream",
          "name": "stdout",
          "text": [
            "Looking in indexes: https://pypi.org/simple, https://us-python.pkg.dev/colab-wheels/public/simple/\n",
            "Requirement already satisfied: matplotlib in /usr/local/lib/python3.10/dist-packages (3.7.1)\n",
            "Requirement already satisfied: contourpy>=1.0.1 in /usr/local/lib/python3.10/dist-packages (from matplotlib) (1.0.7)\n",
            "Requirement already satisfied: cycler>=0.10 in /usr/local/lib/python3.10/dist-packages (from matplotlib) (0.11.0)\n",
            "Requirement already satisfied: fonttools>=4.22.0 in /usr/local/lib/python3.10/dist-packages (from matplotlib) (4.39.3)\n",
            "Requirement already satisfied: kiwisolver>=1.0.1 in /usr/local/lib/python3.10/dist-packages (from matplotlib) (1.4.4)\n",
            "Requirement already satisfied: numpy>=1.20 in /usr/local/lib/python3.10/dist-packages (from matplotlib) (1.22.4)\n",
            "Requirement already satisfied: packaging>=20.0 in /usr/local/lib/python3.10/dist-packages (from matplotlib) (23.1)\n",
            "Requirement already satisfied: pillow>=6.2.0 in /usr/local/lib/python3.10/dist-packages (from matplotlib) (8.4.0)\n",
            "Requirement already satisfied: pyparsing>=2.3.1 in /usr/local/lib/python3.10/dist-packages (from matplotlib) (3.0.9)\n",
            "Requirement already satisfied: python-dateutil>=2.7 in /usr/local/lib/python3.10/dist-packages (from matplotlib) (2.8.2)\n",
            "Requirement already satisfied: six>=1.5 in /usr/local/lib/python3.10/dist-packages (from python-dateutil>=2.7->matplotlib) (1.16.0)\n"
          ]
        }
      ]
    },
    {
      "cell_type": "markdown",
      "source": [
        "<h1>Días lluviosos por ciudad</h1>"
      ],
      "metadata": {
        "id": "WSVuC7VRP1hW"
      }
    },
    {
      "cell_type": "code",
      "source": [
        "sql = df.filter(df.RainTomorrowBin == 1).groupby('Location').count()"
      ],
      "metadata": {
        "id": "6hwTa2t2P_Ej"
      },
      "execution_count": 155,
      "outputs": []
    },
    {
      "cell_type": "code",
      "source": [
        "pandasDF = sql.toPandas()\n",
        "pandasDF.plot(kind='bar',x='Location',y='count',colormap='winter_r')"
      ],
      "metadata": {
        "colab": {
          "base_uri": "https://localhost:8080/",
          "height": 574
        },
        "id": "lUyEXQsAP83n",
        "outputId": "2c62b85a-948b-4d59-b47b-7d2617964131"
      },
      "execution_count": 156,
      "outputs": [
        {
          "output_type": "execute_result",
          "data": {
            "text/plain": [
              "<Axes: xlabel='Location'>"
            ]
          },
          "metadata": {},
          "execution_count": 156
        },
        {
          "output_type": "display_data",
          "data": {
            "text/plain": [
              "<Figure size 640x480 with 1 Axes>"
            ],
            "image/png": "[encoded data removed]"
          },
          "metadata": {}
        }
      ]
    },
    {
      "cell_type": "markdown",
      "source": [
        "<h1>Distribución de las lluvias por día del año</h1>"
      ],
      "metadata": {
        "id": "KBdmDBj3UsmE"
      }
    },
    {
      "cell_type": "code",
      "source": [
        "sql = df.filter(df.RainTodayBin == 1).groupby('DayYear').count()\n",
        "pandasDF = sql.toPandas()\n",
        "pandasDF.plot(kind='hist',x='DayYear',y='count',color=\"b\")\n"
      ],
      "metadata": {
        "colab": {
          "base_uri": "https://localhost:8080/",
          "height": 450
        },
        "id": "K1ggRuJcU4sm",
        "outputId": "a4a787ad-74ef-4427-94e3-f466363d3bf7"
      },
      "execution_count": 157,
      "outputs": [
        {
          "output_type": "execute_result",
          "data": {
            "text/plain": [
              "<Axes: ylabel='Frequency'>"
            ]
          },
          "metadata": {},
          "execution_count": 157
        },
        {
          "output_type": "display_data",
          "data": {
            "text/plain": [
              "<Figure size 640x480 with 1 Axes>"
            ],
            "image/png": "[encoded data removed]"
          },
          "metadata": {}
        }
      ]
    },
    {
      "cell_type": "code",
      "source": [],
      "metadata": {
        "id": "eC5TB8SnVcda"
      },
      "execution_count": 157,
      "outputs": []
    }
  ]
}