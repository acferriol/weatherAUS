{
  "metadata": {
    "language_info": {
      "codemirror_mode": {
        "name": "ipython",
        "version": 3
      },
      "file_extension": ".py",
      "mimetype": "text/x-python",
      "name": "python",
      "nbconvert_exporter": "python",
      "pygments_lexer": "ipython3",
      "version": "3.9.1-final"
    },
    "orig_nbformat": 2,
    "kernelspec": {
      "name": "python3",
      "display_name": "Python 3.9.1 64-bit",
      "metadata": {
        "interpreter": {
          "hash": "993719309b7497d4ea980752fffbdfc5c91491f5d8efe44ee08128fdc39f9023"
        }
      }
    },
    "colab": {
      "provenance": []
    }
  },
  "nbformat": 4,
  "nbformat_minor": 0,
  "cells": [
    {
      "cell_type": "code",
      "source": [
        "#!pip install findspark"
      ],
      "metadata": {
        "colab": {
          "base_uri": "https://localhost:8080/"
        },
        "id": "DH_TuNRirxsw",
        "outputId": "77d2c6ba-2a3d-4446-ec5f-f05e1ef52a2f"
      },
      "execution_count": 1,
      "outputs": [
        {
          "output_type": "stream",
          "name": "stdout",
          "text": [
            "Looking in indexes: https://pypi.org/simple, https://us-python.pkg.dev/colab-wheels/public/simple/\n",
            "Collecting findspark\n",
            "  Downloading findspark-2.0.1-py2.py3-none-any.whl (4.4 kB)\n",
            "Installing collected packages: findspark\n",
            "Successfully installed findspark-2.0.1\n"
          ]
        }
      ]
    },
    {
      "cell_type": "code",
      "source": [
        "#!pip install pyspark"
      ],
      "metadata": {
        "colab": {
          "base_uri": "https://localhost:8080/"
        },
        "id": "RDNtkEOprsFl",
        "outputId": "09dd481c-4a45-4dd8-94e2-0b6debb117e4"
      },
      "execution_count": 2,
      "outputs": [
        {
          "output_type": "stream",
          "name": "stdout",
          "text": [
            "Looking in indexes: https://pypi.org/simple, https://us-python.pkg.dev/colab-wheels/public/simple/\n",
            "Collecting pyspark\n",
            "  Downloading pyspark-3.4.0.tar.gz (310.8 MB)\n",
            "\u001b[2K     \u001b[90m━━━━━━━━━━━━━━━━━━━━━━━━━━━━━━━━━━━━━━━\u001b[0m \u001b[32m310.8/310.8 MB\u001b[0m \u001b[31m4.8 MB/s\u001b[0m eta \u001b[36m0:00:00\u001b[0m\n",
            "\u001b[?25h  Preparing metadata (setup.py) ... \u001b[?25l\u001b[?25hdone\n",
            "Requirement already satisfied: py4j==0.10.9.7 in /usr/local/lib/python3.10/dist-packages (from pyspark) (0.10.9.7)\n",
            "Building wheels for collected packages: pyspark\n",
            "  Building wheel for pyspark (setup.py) ... \u001b[?25l\u001b[?25hdone\n",
            "  Created wheel for pyspark: filename=pyspark-3.4.0-py2.py3-none-any.whl size=311317130 sha256=7cb623265adba1ed53f94f28bc8769a5d94eec9fa1e8132f2c92853e77a63ffe\n",
            "  Stored in directory: /root/.cache/pip/wheels/7b/1b/4b/3363a1d04368e7ff0d408e57ff57966fcdf00583774e761327\n",
            "Successfully built pyspark\n",
            "Installing collected packages: pyspark\n",
            "Successfully installed pyspark-3.4.0\n"
          ]
        }
      ]
    },
    {
      "cell_type": "code",
      "execution_count": 3,
      "metadata": {
        "id": "VlincvEsrnto"
      },
      "outputs": [],
      "source": [
        "from pyspark.sql import SparkSession\n",
        "import findspark as fs\n",
        "fs.init()"
      ]
    },
    {
      "cell_type": "code",
      "execution_count": 4,
      "metadata": {
        "id": "UAonZkPgrnts"
      },
      "outputs": [],
      "source": [
        "spark = SparkSession.builder.getOrCreate()"
      ]
    },
    {
      "cell_type": "code",
      "source": [
        "#from google.colab import drive\n",
        "#drive.mount('/content/drive')"
      ],
      "metadata": {
        "colab": {
          "base_uri": "https://localhost:8080/"
        },
        "id": "DZUeDNiUtX-O",
        "outputId": "89f350c4-614e-4795-b70f-8965010f94bb"
      },
      "execution_count": 5,
      "outputs": [
        {
          "output_type": "stream",
          "name": "stdout",
          "text": [
            "Mounted at /content/drive\n"
          ]
        }
      ]
    },
    {
      "cell_type": "code",
      "execution_count": 6,
      "metadata": {
        "id": "oCkGBrX9rntv"
      },
      "outputs": [],
      "source": [
        "df = spark.read.format(\"csv\")\\\n",
        "    .option(\"sep\",\",\")\\\n",
        "        .option(\"inferSchema\",\"true\")\\\n",
        "            .option(\"header\",\"true\")\\\n",
        "                .load(\"/content/drive/MyDrive/content/weatherAUS.csv\") #Cambiar la ruta"
      ]
    },
    {
      "cell_type": "code",
      "execution_count": 7,
      "metadata": {
        "colab": {
          "base_uri": "https://localhost:8080/"
        },
        "id": "eeusH3b2rnty",
        "outputId": "96aecd52-366a-4a0d-ff39-57e82a486cb7"
      },
      "outputs": [
        {
          "output_type": "stream",
          "name": "stdout",
          "text": [
            "root\n",
            " |-- Date: date (nullable = true)\n",
            " |-- Location: string (nullable = true)\n",
            " |-- MinTemp: string (nullable = true)\n",
            " |-- MaxTemp: string (nullable = true)\n",
            " |-- Rainfall: string (nullable = true)\n",
            " |-- Evaporation: string (nullable = true)\n",
            " |-- Sunshine: string (nullable = true)\n",
            " |-- WindGustDir: string (nullable = true)\n",
            " |-- WindGustSpeed: string (nullable = true)\n",
            " |-- WindDir9am: string (nullable = true)\n",
            " |-- WindDir3pm: string (nullable = true)\n",
            " |-- WindSpeed9am: string (nullable = true)\n",
            " |-- WindSpeed3pm: string (nullable = true)\n",
            " |-- Humidity9am: string (nullable = true)\n",
            " |-- Humidity3pm: string (nullable = true)\n",
            " |-- Pressure9am: string (nullable = true)\n",
            " |-- Pressure3pm: string (nullable = true)\n",
            " |-- Cloud9am: string (nullable = true)\n",
            " |-- Cloud3pm: string (nullable = true)\n",
            " |-- Temp9am: string (nullable = true)\n",
            " |-- Temp3pm: string (nullable = true)\n",
            " |-- RainToday: string (nullable = true)\n",
            " |-- RainTomorrow: string (nullable = true)\n",
            "\n"
          ]
        }
      ],
      "source": [
        "df.printSchema()"
      ]
    },
    {
      "source": [
        "> <h1>Tipando correctamente</h1>"
      ],
      "cell_type": "markdown",
      "metadata": {
        "id": "IDpd5hK-rnt1"
      }
    },
    {
      "cell_type": "code",
      "execution_count": 8,
      "metadata": {
        "colab": {
          "base_uri": "https://localhost:8080/"
        },
        "id": "SkwUcNXmrnt5",
        "outputId": "6484ce83-c586-4db0-d839-3c23204cc11f"
      },
      "outputs": [
        {
          "output_type": "stream",
          "name": "stdout",
          "text": [
            "+----------+--------+-------+-------+--------+-----------+--------+-----------+-------------+----------+----------+------------+------------+-----------+-----------+-----------+-----------+--------+--------+-------+-------+---------+------------+\n",
            "|      Date|Location|MinTemp|MaxTemp|Rainfall|Evaporation|Sunshine|WindGustDir|WindGustSpeed|WindDir9am|WindDir3pm|WindSpeed9am|WindSpeed3pm|Humidity9am|Humidity3pm|Pressure9am|Pressure3pm|Cloud9am|Cloud3pm|Temp9am|Temp3pm|RainToday|RainTomorrow|\n",
            "+----------+--------+-------+-------+--------+-----------+--------+-----------+-------------+----------+----------+------------+------------+-----------+-----------+-----------+-----------+--------+--------+-------+-------+---------+------------+\n",
            "|2008-12-01|  Albury|   13.4|   22.9|     0.6|       null|    null|          W|           44|         W|       WNW|          20|          24|         71|         22|     1007.7|     1007.1|       8|    null|   16.9|   21.8|       No|          No|\n",
            "|2008-12-02|  Albury|    7.4|   25.1|     0.0|       null|    null|        WNW|           44|       NNW|       WSW|           4|          22|         44|         25|     1010.6|     1007.8|    null|    null|   17.2|   24.3|       No|          No|\n",
            "|2008-12-03|  Albury|   12.9|   25.7|     0.0|       null|    null|        WSW|           46|         W|       WSW|          19|          26|         38|         30|     1007.6|     1008.7|    null|       2|   21.0|   23.2|       No|          No|\n",
            "|2008-12-04|  Albury|    9.2|   28.0|     0.0|       null|    null|         NE|           24|        SE|         E|          11|           9|         45|         16|     1017.6|     1012.8|    null|    null|   18.1|   26.5|       No|          No|\n",
            "|2008-12-05|  Albury|   17.5|   32.3|     1.0|       null|    null|          W|           41|       ENE|        NW|           7|          20|         82|         33|     1010.8|     1006.0|       7|       8|   17.8|   29.7|       No|          No|\n",
            "|2008-12-06|  Albury|   14.6|   29.7|     0.2|       null|    null|        WNW|           56|         W|         W|          19|          24|         55|         23|     1009.2|     1005.4|    null|    null|   20.6|   28.9|       No|          No|\n",
            "|2008-12-07|  Albury|   14.3|   25.0|     0.0|       null|    null|          W|           50|        SW|         W|          20|          24|         49|         19|     1009.6|     1008.2|       1|    null|   18.1|   24.6|       No|          No|\n",
            "|2008-12-08|  Albury|    7.7|   26.7|     0.0|       null|    null|          W|           35|       SSE|         W|           6|          17|         48|         19|     1013.4|     1010.1|    null|    null|   16.3|   25.5|       No|          No|\n",
            "|2008-12-09|  Albury|    9.7|   31.9|     0.0|       null|    null|        NNW|           80|        SE|        NW|           7|          28|         42|          9|     1008.9|     1003.6|    null|    null|   18.3|   30.2|       No|         Yes|\n",
            "|2008-12-10|  Albury|   13.1|   30.1|     1.4|       null|    null|          W|           28|         S|       SSE|          15|          11|         58|         27|     1007.0|     1005.7|    null|    null|   20.1|   28.2|      Yes|          No|\n",
            "|2008-12-11|  Albury|   13.4|   30.4|     0.0|       null|    null|          N|           30|       SSE|       ESE|          17|           6|         48|         22|     1011.8|     1008.7|    null|    null|   20.4|   28.8|       No|         Yes|\n",
            "|2008-12-12|  Albury|   15.9|   21.7|     2.2|       null|    null|        NNE|           31|        NE|       ENE|          15|          13|         89|         91|     1010.5|     1004.2|       8|       8|   15.9|   17.0|      Yes|         Yes|\n",
            "|2008-12-13|  Albury|   15.9|   18.6|    15.6|       null|    null|          W|           61|       NNW|       NNW|          28|          28|         76|         93|      994.3|      993.0|       8|       8|   17.4|   15.8|      Yes|         Yes|\n",
            "|2008-12-14|  Albury|   12.6|   21.0|     3.6|       null|    null|         SW|           44|         W|       SSW|          24|          20|         65|         43|     1001.2|     1001.8|    null|       7|   15.8|   19.8|      Yes|          No|\n",
            "|2008-12-15|  Albury|    8.4|   24.6|     0.0|       null|    null|         NA|         null|         S|       WNW|           4|          30|         57|         32|     1009.7|     1008.7|    null|    null|   15.9|   23.5|       No|          NA|\n",
            "|2008-12-16|  Albury|    9.8|   27.7|    null|       null|    null|        WNW|           50|        NA|       WNW|        null|          22|         50|         28|     1013.4|     1010.3|       0|    null|   17.3|   26.2|       NA|          No|\n",
            "|2008-12-17|  Albury|   14.1|   20.9|     0.0|       null|    null|        ENE|           22|       SSW|         E|          11|           9|         69|         82|     1012.2|     1010.4|       8|       1|   17.2|   18.1|       No|         Yes|\n",
            "|2008-12-18|  Albury|   13.5|   22.9|    16.8|       null|    null|          W|           63|         N|       WNW|           6|          20|         80|         65|     1005.8|     1002.2|       8|       1|   18.0|   21.5|      Yes|         Yes|\n",
            "|2008-12-19|  Albury|   11.2|   22.5|    10.6|       null|    null|        SSE|           43|       WSW|        SW|          24|          17|         47|         32|     1009.4|     1009.7|    null|       2|   15.5|   21.0|      Yes|          No|\n",
            "|2008-12-20|  Albury|    9.8|   25.6|     0.0|       null|    null|        SSE|           26|        SE|       NNW|          17|           6|         45|         26|     1019.2|     1017.1|    null|    null|   15.8|   23.2|       No|          No|\n",
            "+----------+--------+-------+-------+--------+-----------+--------+-----------+-------------+----------+----------+------------+------------+-----------+-----------+-----------+-----------+--------+--------+-------+-------+---------+------------+\n",
            "only showing top 20 rows\n",
            "\n"
          ]
        }
      ],
      "source": [
        "df = df.withColumn(\"Date\", df[\"Date\"].cast(\"date\"))\n",
        "df = df.withColumn(\"MinTemp\", df[\"MinTemp\"].cast(\"float\"))\n",
        "df = df.withColumn(\"MaxTemp\", df[\"MaxTemp\"].cast(\"float\"))\n",
        "df = df.withColumn(\"Rainfall\", df[\"Rainfall\"].cast(\"float\"))\n",
        "df = df.withColumn(\"Evaporation\", df[\"Evaporation\"].cast(\"float\"))\n",
        "df = df.withColumn(\"Sunshine\", df[\"Sunshine\"].cast(\"float\"))\n",
        "df = df.withColumn(\"WindGustSpeed\", df[\"WindGustSpeed\"].cast(\"int\"))\n",
        "df = df.withColumn(\"WindSpeed9am\", df[\"WindSpeed9am\"].cast(\"int\"))\n",
        "df = df.withColumn(\"WindSpeed3pm\", df[\"WindSpeed3pm\"].cast(\"int\"))\n",
        "df = df.withColumn(\"Humidity9am\", df[\"Humidity9am\"].cast(\"int\"))\n",
        "df = df.withColumn(\"Humidity3pm\", df[\"Humidity3pm\"].cast(\"int\"))\n",
        "df = df.withColumn(\"Pressure9am\", df[\"Pressure9am\"].cast(\"float\"))\n",
        "df = df.withColumn(\"Pressure3pm\", df[\"Pressure3pm\"].cast(\"float\"))\n",
        "df = df.withColumn(\"Cloud9am\", df[\"Cloud9am\"].cast(\"int\"))\n",
        "df = df.withColumn(\"Cloud3pm\", df[\"Cloud3pm\"].cast(\"int\"))\n",
        "df = df.withColumn(\"Temp9am\", df[\"Temp9am\"].cast(\"float\"))\n",
        "df = df.withColumn(\"Temp3pm\", df[\"Temp3pm\"].cast(\"float\"))\n",
        "df.show()"
      ]
    },
    {
      "source": [
        "<h1> Transformando"
      ],
      "cell_type": "markdown",
      "metadata": {
        "id": "A1qRyuDlrnwN"
      }
    },
    {
      "source": [
        "<h2> Trabajando con datos faltantes"
      ],
      "cell_type": "markdown",
      "metadata": {
        "id": "ovwSVuscrnwO"
      }
    },
    {
      "cell_type": "code",
      "execution_count": 9,
      "metadata": {
        "colab": {
          "base_uri": "https://localhost:8080/"
        },
        "id": "fVT8wAnGrnwQ",
        "outputId": "8ccab552-e6a6-4a23-f2c0-87f334939928"
      },
      "outputs": [
        {
          "output_type": "stream",
          "name": "stdout",
          "text": [
            "Date   0\n",
            "Location   0\n",
            "MinTemp   1485\n",
            "MaxTemp   1261\n",
            "Rainfall   3261\n",
            "Evaporation   62790\n",
            "Sunshine   69835\n",
            "WindGustDir   0\n",
            "WindGustSpeed   10263\n",
            "WindDir9am   0\n",
            "WindDir3pm   0\n",
            "WindSpeed9am   1767\n",
            "WindSpeed3pm   3062\n",
            "Humidity9am   2654\n",
            "Humidity3pm   4507\n",
            "Pressure9am   15065\n",
            "Pressure3pm   15028\n",
            "Cloud9am   55888\n",
            "Cloud3pm   59358\n",
            "Temp9am   1767\n",
            "Temp3pm   3609\n",
            "RainToday   0\n",
            "RainTomorrow   0\n"
          ]
        }
      ],
      "source": [
        "for col in df.columns:\n",
        "    print(col,\" \",df.filter(df[col].isNull()).count() )"
      ]
    },
    {
      "cell_type": "code",
      "execution_count": 10,
      "metadata": {
        "colab": {
          "base_uri": "https://localhost:8080/"
        },
        "id": "cpCNuDVzrnwT",
        "outputId": "4c9a8c2d-06b3-48b3-a520-7cfd7b9cf0e1"
      },
      "outputs": [
        {
          "output_type": "stream",
          "name": "stdout",
          "text": [
            "145460\n"
          ]
        }
      ],
      "source": [
        "print(df.count())"
      ]
    },
    {
      "source": [
        "<h3> Se eliminan los atributos Evaporation, Sunshine, Cloud9am y Cloud3pm por tener más de 1/3 de sus valores nulos"
      ],
      "cell_type": "markdown",
      "metadata": {
        "id": "Ox3n5gtGrnwY"
      }
    },
    {
      "cell_type": "code",
      "execution_count": 11,
      "metadata": {
        "id": "zLaun-Zurnwb"
      },
      "outputs": [],
      "source": [
        "df =df.drop(\"Evaporation\", \"Sunshine\", \"Cloud9am\", \"Cloud3pm\")\n"
      ]
    },
    {
      "source": [
        "<h3> Los valores faltantes de las otras variables meteorológicas se completarán con la media"
      ],
      "cell_type": "markdown",
      "metadata": {
        "id": "i31aiVbPrnwd"
      }
    },
    {
      "cell_type": "code",
      "execution_count": 12,
      "metadata": {
        "colab": {
          "base_uri": "https://localhost:8080/"
        },
        "id": "2BAps2_9rnwe",
        "outputId": "bbad5f24-b3c3-435f-b189-58380d073f9f"
      },
      "outputs": [
        {
          "output_type": "stream",
          "name": "stdout",
          "text": [
            "+------------------+------------------+------------------+------------------+------------------+------------------+\n",
            "|avg(WindGustSpeed)|     avg(Rainfall)| avg(WindSpeed9am)|      avg(MinTemp)| avg(WindSpeed3pm)|      avg(MaxTemp)|\n",
            "+------------------+------------------+------------------+------------------+------------------+------------------+\n",
            "| 40.03523007167319|2.3609181508908756|14.043425914971502|12.194034381779941|18.662656778887342|23.221348273321002|\n",
            "+------------------+------------------+------------------+------------------+------------------+------------------+\n",
            "\n"
          ]
        }
      ],
      "source": [
        "df.agg({\"MinTemp\":\"avg\",\n",
        "        \"MaxTemp\":\"avg\",\n",
        "        \"Rainfall\":\"avg\",\n",
        "        \"WindGustSpeed\":\"avg\",\n",
        "        \"WindSpeed9am\":\"avg\",   \n",
        "        \"WindSpeed3pm\":\"avg\"}).show()   "
      ]
    },
    {
      "cell_type": "code",
      "execution_count": 13,
      "metadata": {
        "id": "_4_plJv7rnwg"
      },
      "outputs": [],
      "source": [
        "df = df.na.fill(12.2,subset=[\"MinTemp\"])\n",
        "df = df.na.fill(23.22,subset=[\"MaxTemp\"])\n",
        "df = df.na.fill(40,subset=[\"WindGustSpeed\"])\n",
        "df = df.na.fill(2.36,subset=[\"Rainfall\"])\n",
        "df = df.na.fill(14,subset=[\"WindSpeed9am\"])\n",
        "df = df.na.fill(19,subset=[\"WindSpeed3pm\"])"
      ]
    },
    {
      "cell_type": "code",
      "execution_count": 14,
      "metadata": {
        "colab": {
          "base_uri": "https://localhost:8080/"
        },
        "id": "NsKw94lLrnwh",
        "outputId": "48aeafb8-e52e-4398-bfcb-1c7d5b76a79d"
      },
      "outputs": [
        {
          "output_type": "stream",
          "name": "stdout",
          "text": [
            "+----------------+------------------+-----------------+------------------+-----------------+------------------+\n",
            "|avg(Humidity3pm)|  avg(Pressure9am)| avg(Humidity9am)|  avg(Pressure3pm)|     avg(Temp3pm)|      avg(Temp9am)|\n",
            "+----------------+------------------+-----------------+------------------+-----------------+------------------+\n",
            "|51.5391158755046|1017.6499397947478|68.88083133761887|1015.2558887915008|21.68339031665222|16.990631418377568|\n",
            "+----------------+------------------+-----------------+------------------+-----------------+------------------+\n",
            "\n"
          ]
        }
      ],
      "source": [
        "df.agg({\"Humidity9am\":\"avg\",   \n",
        "        \"Humidity3pm\":\"avg\",   \n",
        "        \"Pressure9am\":\"avg\",  \n",
        "        \"Pressure3pm\":\"avg\",\n",
        "        \"Temp9am\":\"avg\",  \n",
        "        \"Temp3pm\":\"avg\"}).show()   "
      ]
    },
    {
      "cell_type": "code",
      "execution_count": 15,
      "metadata": {
        "id": "g2x-a6Tkrnws"
      },
      "outputs": [],
      "source": [
        "df = df.na.fill(1017.7,subset=[\"Pressure9am\"])\n",
        "df = df.na.fill(1015.3,subset=[\"Pressure3pm\"])\n",
        "df = df.na.fill(69,subset=[\"Humidity9am\"])\n",
        "df = df.na.fill(52,subset=[\"Humidity3pm\"])\n",
        "df = df.na.fill(17.0,subset=[\"Temp9am\"])\n",
        "df = df.na.fill(21.7,subset=[\"Temp3pm\"])"
      ]
    },
    {
      "cell_type": "code",
      "execution_count": 16,
      "metadata": {
        "colab": {
          "base_uri": "https://localhost:8080/"
        },
        "id": "t7LfhYDRrnwt",
        "outputId": "26e8c231-56ce-4742-b3db-a7c4f3799a0f"
      },
      "outputs": [
        {
          "output_type": "stream",
          "name": "stdout",
          "text": [
            "Date   0\n",
            "Location   0\n",
            "MinTemp   0\n",
            "MaxTemp   0\n",
            "Rainfall   0\n",
            "WindGustDir   0\n",
            "WindGustSpeed   0\n",
            "WindDir9am   0\n",
            "WindDir3pm   0\n",
            "WindSpeed9am   0\n",
            "WindSpeed3pm   0\n",
            "Humidity9am   0\n",
            "Humidity3pm   0\n",
            "Pressure9am   0\n",
            "Pressure3pm   0\n",
            "Temp9am   0\n",
            "Temp3pm   0\n",
            "RainToday   0\n",
            "RainTomorrow   0\n"
          ]
        }
      ],
      "source": [
        "for col in df.columns:\n",
        "    print(col,\" \",df.filter(df[col].isNull()).count() )"
      ]
    },
    {
      "cell_type": "code",
      "execution_count": 17,
      "metadata": {
        "colab": {
          "base_uri": "https://localhost:8080/"
        },
        "id": "QNCdN_nernww",
        "outputId": "8cda7b4d-9f70-4e19-f3bd-61ed7296e866"
      },
      "outputs": [
        {
          "output_type": "stream",
          "name": "stdout",
          "text": [
            "+---------+------------+-----+\n",
            "|RainToday|RainTomorrow|count|\n",
            "+---------+------------+-----+\n",
            "|       NA|         Yes|  676|\n",
            "|      Yes|         Yes|14597|\n",
            "|       No|          No|92728|\n",
            "|       No|          NA|  987|\n",
            "|      Yes|          No|16858|\n",
            "|       NA|          No|  730|\n",
            "|       NA|          NA| 1855|\n",
            "|       No|         Yes|16604|\n",
            "|      Yes|          NA|  425|\n",
            "+---------+------------+-----+\n",
            "\n"
          ]
        }
      ],
      "source": [
        "df.groupBy(\"RainToday\",\"RainTomorrow\").count().show()"
      ]
    },
    {
      "source": [
        "<h3> Se aprecia que el valor NA no es válido para si llovió o no. Siendo RainTomorrow el valor a predecir y RainToday esencial para esa predicción, se eliminan todas las tuplas en las que uno de estos dos atributos posea ese valor."
      ],
      "cell_type": "markdown",
      "metadata": {
        "id": "mls_TMuarnw7"
      }
    },
    {
      "cell_type": "code",
      "execution_count": 18,
      "metadata": {
        "colab": {
          "base_uri": "https://localhost:8080/"
        },
        "id": "33kHMhBBrnw8",
        "outputId": "cb7351bf-6e68-4399-e931-704fc1e29cca"
      },
      "outputs": [
        {
          "output_type": "stream",
          "name": "stdout",
          "text": [
            "+---------+------------+-----+\n",
            "|RainToday|RainTomorrow|count|\n",
            "+---------+------------+-----+\n",
            "|       NA|         Yes|  676|\n",
            "|      Yes|         Yes|14597|\n",
            "|       No|          No|92728|\n",
            "|       No|          NA|  987|\n",
            "|      Yes|          No|16858|\n",
            "|       NA|          No|  730|\n",
            "|       NA|          NA| 1855|\n",
            "|       No|         Yes|16604|\n",
            "|      Yes|          NA|  425|\n",
            "+---------+------------+-----+\n",
            "\n"
          ]
        }
      ],
      "source": [
        "df.groupBy(\"RainToday\",\"RainTomorrow\").count().show()\n"
      ]
    },
    {
      "cell_type": "code",
      "execution_count": 19,
      "metadata": {
        "id": "cek-7hZGrnw9"
      },
      "outputs": [],
      "source": [
        "df = df.filter(df.RainToday != \"NA\")\n",
        "df = df.filter(df.RainTomorrow != \"NA\")"
      ]
    },
    {
      "cell_type": "code",
      "execution_count": 20,
      "metadata": {
        "colab": {
          "base_uri": "https://localhost:8080/"
        },
        "id": "EeLzHQZ-rnw-",
        "outputId": "2c14a946-5ebd-4c08-d802-7e28832eb7f2"
      },
      "outputs": [
        {
          "output_type": "stream",
          "name": "stdout",
          "text": [
            "+---------+------------+-----+\n",
            "|RainToday|RainTomorrow|count|\n",
            "+---------+------------+-----+\n",
            "|      Yes|         Yes|14597|\n",
            "|       No|          No|92728|\n",
            "|      Yes|          No|16858|\n",
            "|       No|         Yes|16604|\n",
            "+---------+------------+-----+\n",
            "\n"
          ]
        }
      ],
      "source": [
        "df.groupBy(\"RainToday\",\"RainTomorrow\").count().show()"
      ]
    },
    {
      "cell_type": "code",
      "execution_count": 21,
      "metadata": {
        "colab": {
          "base_uri": "https://localhost:8080/"
        },
        "id": "OnV_vrbsrnxA",
        "outputId": "959106a2-0e07-4e92-ce85-cbc13bf5f60c"
      },
      "outputs": [
        {
          "output_type": "execute_result",
          "data": {
            "text/plain": [
              "140787"
            ]
          },
          "metadata": {},
          "execution_count": 21
        }
      ],
      "source": [
        "df.count()"
      ]
    },
    {
      "source": [
        "<h3> Veamos las estadísticas"
      ],
      "cell_type": "markdown",
      "metadata": {
        "id": "awvGs4VFrnxB"
      }
    },
    {
      "cell_type": "code",
      "execution_count": 22,
      "metadata": {
        "colab": {
          "base_uri": "https://localhost:8080/"
        },
        "id": "cS5B0V8VrnxK",
        "outputId": "974cc359-1367-44bf-87d1-8017f880048b"
      },
      "outputs": [
        {
          "output_type": "stream",
          "name": "stdout",
          "text": [
            "['MinTemp', 'MaxTemp', 'Rainfall', 'WindGustSpeed', 'WindSpeed9am', 'WindSpeed3pm', 'Humidity9am', 'Humidity3pm', 'Pressure9am', 'Pressure3pm', 'Temp9am', 'Temp3pm']\n"
          ]
        }
      ],
      "source": [
        "num_cols = [col[0] for col in df.dtypes if col[1]==\"int\" or col[1]==\"float\"]\n",
        "print(num_cols)"
      ]
    },
    {
      "cell_type": "code",
      "execution_count": 23,
      "metadata": {
        "colab": {
          "base_uri": "https://localhost:8080/"
        },
        "id": "6PKNnC1IrnxL",
        "outputId": "60dba8aa-1ea8-4699-9f79-37106a442452"
      },
      "outputs": [
        {
          "output_type": "execute_result",
          "data": {
            "text/plain": [
              "Column<'features'>"
            ]
          },
          "metadata": {},
          "execution_count": 23
        }
      ],
      "source": [
        "from pyspark.ml.feature import VectorAssembler\n",
        "from pyspark.ml.stat import Summarizer\n",
        "\n",
        "summarizer = Summarizer.metrics(\"mean\",\"std\")\n",
        "\n",
        "vecAssembler = VectorAssembler(outputCol=\"features\")\n",
        "\n",
        "vecAssembler.setInputCols(num_cols)\n",
        "vector_df = vecAssembler.transform(df)\n",
        "vector_df.features"
      ]
    },
    {
      "cell_type": "code",
      "execution_count": 24,
      "metadata": {
        "colab": {
          "base_uri": "https://localhost:8080/"
        },
        "id": "n7eGnSo4rnxN",
        "outputId": "538bebf0-23af-416a-c714-0384de5d786e"
      },
      "outputs": [
        {
          "output_type": "stream",
          "name": "stdout",
          "text": [
            "['MinTemp', 'MaxTemp', 'Rainfall', 'WindGustSpeed', 'WindSpeed9am', 'WindSpeed3pm', 'Humidity9am', 'Humidity3pm', 'Pressure9am', 'Pressure3pm', 'Temp9am', 'Temp3pm']\n",
            "[Row(mean(features)=DenseVector([12.1849, 23.2351, 2.35, 39.9724, 13.9906, 18.6378, 68.8287, 51.463, 1017.659, 1015.2621, 16.9871, 21.6933]))]\n"
          ]
        },
        {
          "output_type": "execute_result",
          "data": {
            "text/plain": [
              "[Row(std(features)=DenseVector([6.3932, 7.1067, 8.4652, 13.1318, 8.8529, 8.7188, 18.9607, 20.5471, 6.7492, 6.6825, 6.4809, 6.8728]))]"
            ]
          },
          "metadata": {},
          "execution_count": 24
        }
      ],
      "source": [
        "print(num_cols)\n",
        "\n",
        "print(vector_df.select(Summarizer.mean(vector_df.features)).collect())\n",
        "\n",
        "vector_df.select(Summarizer.std(vector_df.features)).collect()\n",
        "    \n"
      ]
    },
    {
      "source": [
        "<h3> Veamos la correlación"
      ],
      "cell_type": "markdown",
      "metadata": {
        "id": "FbqMkuq4rnxO"
      }
    },
    {
      "cell_type": "code",
      "execution_count": 25,
      "metadata": {
        "colab": {
          "base_uri": "https://localhost:8080/"
        },
        "id": "GuQcp4gurnxO",
        "outputId": "44077f32-d594-4bef-db3a-4057f6beb1ad"
      },
      "outputs": [
        {
          "output_type": "stream",
          "name": "stdout",
          "text": [
            "Pearson correlation matrix:\n",
            "DenseMatrix([[ 1.        ,  0.73444283,  0.10375978,  0.17410708,  0.17492971,\n",
            "               0.17438453, -0.23287998,  0.00577637, -0.42521122, -0.4351291 ,\n",
            "               0.89893955,  0.70021913],\n",
            "             [ 0.73444283,  1.        , -0.07460166,  0.06713946,  0.01440618,\n",
            "               0.0506871 , -0.50143741, -0.50055238, -0.30939075, -0.39802387,\n",
            "               0.8817381 ,  0.97034128],\n",
            "             [ 0.10375978, -0.07460166,  1.        ,  0.1279515 ,  0.08638767,\n",
            "               0.05710754,  0.22216978,  0.25072481, -0.16039851, -0.1209499 ,\n",
            "               0.01142786, -0.07791177],\n",
            "             [ 0.17410708,  0.06713946,  0.1279515 ,  1.        ,  0.57815673,\n",
            "               0.65899914, -0.20913422, -0.02575603, -0.42686455, -0.38490115,\n",
            "               0.14724441,  0.03280452],\n",
            "             [ 0.17492971,  0.01440618,  0.08638767,  0.57815673,  1.        ,\n",
            "               0.51333483, -0.26884865, -0.03116889, -0.21503559, -0.16489759,\n",
            "               0.12862388,  0.00479995],\n",
            "             [ 0.17438453,  0.0506871 ,  0.05710754,  0.65899914,  0.51333483,\n",
            "               1.        , -0.14425896,  0.01584082, -0.27753247, -0.23996397,\n",
            "               0.1626266 ,  0.02871189],\n",
            "             [-0.23287998, -0.50143741,  0.22216978, -0.20913422, -0.26884865,\n",
            "              -0.14425896,  1.        ,  0.66100442,  0.13121118,  0.1759827 ,\n",
            "              -0.47163616, -0.49380985],\n",
            "             [ 0.00577637, -0.50055238,  0.25072481, -0.02575603, -0.03116889,\n",
            "               0.01584082,  0.66100442,  1.        , -0.02642216,  0.04800364,\n",
            "              -0.2183047 , -0.55634896],\n",
            "             [-0.42521122, -0.30939075, -0.16039851, -0.42686455, -0.21503559,\n",
            "              -0.27753247,  0.13121118, -0.02642216,  1.        ,  0.96005088,\n",
            "              -0.39797285, -0.26645945],\n",
            "             [-0.4351291 , -0.39802387, -0.1209499 , -0.38490115, -0.16489759,\n",
            "              -0.23996397,  0.1759827 ,  0.04800364,  0.96005088,  1.        ,\n",
            "              -0.44258197, -0.36171485],\n",
            "             [ 0.89893955,  0.8817381 ,  0.01142786,  0.14724441,  0.12862388,\n",
            "               0.1626266 , -0.47163616, -0.2183047 , -0.39797285, -0.44258197,\n",
            "               1.        ,  0.84801757],\n",
            "             [ 0.70021913,  0.97034128, -0.07791177,  0.03280452,  0.00479995,\n",
            "               0.02871189, -0.49380985, -0.55634896, -0.26645945, -0.36171485,\n",
            "               0.84801757,  1.        ]])\n",
            "\n"
          ]
        }
      ],
      "source": [
        "from pyspark.ml.stat import Correlation\n",
        "\n",
        "# compute r1 0 Pearson correlation\n",
        "r1 = Correlation.corr(vector_df, \"features\").head()\n",
        "print(\"Pearson correlation matrix:\\n\" + str(r1[0])+ \"\\n\")"
      ]
    },
    {
      "cell_type": "code",
      "execution_count": 26,
      "metadata": {
        "id": "WaOAhaAgrnxP"
      },
      "outputs": [],
      "source": [
        "import numpy as np\n"
      ]
    },
    {
      "cell_type": "code",
      "execution_count": 27,
      "metadata": {
        "colab": {
          "base_uri": "https://localhost:8080/"
        },
        "id": "P-bi43QRrnxQ",
        "outputId": "b87d1003-c80a-48e3-fe82-4d0d71adcb2b"
      },
      "outputs": [
        {
          "output_type": "stream",
          "name": "stdout",
          "text": [
            "1.0\t0.73\t0.1\t0.17\t0.17\t0.17\t-0.23\t0.01\t-0.43\t-0.44\t0.9\t0.7\t\n",
            "0.73\t1.0\t-0.07\t0.07\t0.01\t0.05\t-0.5\t-0.5\t-0.31\t-0.4\t0.88\t0.97\t\n",
            "0.1\t-0.07\t1.0\t0.13\t0.09\t0.06\t0.22\t0.25\t-0.16\t-0.12\t0.01\t-0.08\t\n",
            "0.17\t0.07\t0.13\t1.0\t0.58\t0.66\t-0.21\t-0.03\t-0.43\t-0.38\t0.15\t0.03\t\n",
            "0.17\t0.01\t0.09\t0.58\t1.0\t0.51\t-0.27\t-0.03\t-0.22\t-0.16\t0.13\t0.0\t\n",
            "0.17\t0.05\t0.06\t0.66\t0.51\t1.0\t-0.14\t0.02\t-0.28\t-0.24\t0.16\t0.03\t\n",
            "-0.23\t-0.5\t0.22\t-0.21\t-0.27\t-0.14\t1.0\t0.66\t0.13\t0.18\t-0.47\t-0.49\t\n",
            "0.01\t-0.5\t0.25\t-0.03\t-0.03\t0.02\t0.66\t1.0\t-0.03\t0.05\t-0.22\t-0.56\t\n",
            "-0.43\t-0.31\t-0.16\t-0.43\t-0.22\t-0.28\t0.13\t-0.03\t1.0\t0.96\t-0.4\t-0.27\t\n",
            "-0.44\t-0.4\t-0.12\t-0.38\t-0.16\t-0.24\t0.18\t0.05\t0.96\t1.0\t-0.44\t-0.36\t\n",
            "0.9\t0.88\t0.01\t0.15\t0.13\t0.16\t-0.47\t-0.22\t-0.4\t-0.44\t1.0\t0.85\t\n",
            "0.7\t0.97\t-0.08\t0.03\t0.0\t0.03\t-0.49\t-0.56\t-0.27\t-0.36\t0.85\t1.0\t\n"
          ]
        }
      ],
      "source": [
        "\n",
        "for i in range(0,len(num_cols)):\n",
        "    for j in range(0,len(num_cols)):\n",
        "        print(np.round(r1[0][i,j],2), end=\"\\t\")\n",
        "    print()\n"
      ]
    },
    {
      "source": [
        "<h3> Se puede apreciar una alta correlacion entre las temperaturas a las 9am y a las 3pm con las Temperaturas Maxima y Minima. Por lo tanto excluiremos también estos rasgos<\\h3>\n",
        "<h3> También se aprecia que los dos valores de presión se encuentran altamente correlacionados. (Se resuelve luego)"
      ],
      "cell_type": "markdown",
      "metadata": {
        "id": "o1NtFSZFrnxS"
      }
    },
    {
      "cell_type": "code",
      "execution_count": 54,
      "metadata": {
        "id": "_f9FvktWrnxT"
      },
      "outputs": [],
      "source": [
        "df = df.drop('Temp9am', 'Temp3pm')"
      ]
    },
    {
      "source": [
        "<h1> Featuring Engineering"
      ],
      "cell_type": "markdown",
      "metadata": {
        "id": "E8-8gaHgrnxV"
      }
    },
    {
      "source": [
        "<h2>Cambios</h2>\n",
        "<h3><ul>\n",
        "<li>La fecha la transformaremos a día del año int[1-365] para que se tenga en cuenta no solo la cercanía de fechas del mismo año, sino también de fechas que coinciden en época aunque en años distintos y se elimina el atributo fecha</li>\n",
        "<li>Se busca la presión media y una vez hecho se eliminan las dos columnas existentes</li>\n",
        "<li>RainToday y RainTomorrow se transforman a 0(no llueve) 1(si llueve)</li>\n",
        "<li>Solo se deja los valores de vientos general, se eliminan los de horarios</li>\n",
        "</ul>"
      ],
      "cell_type": "markdown",
      "metadata": {
        "id": "_yuPyUFnrnxW"
      }
    },
    {
      "source": [
        "<h3> Transformando la fecha"
      ],
      "cell_type": "markdown",
      "metadata": {
        "id": "fEG5SEeZrnxX"
      }
    },
    {
      "cell_type": "code",
      "execution_count": 29,
      "metadata": {
        "id": "loW_3uEurnxY"
      },
      "outputs": [],
      "source": [
        "def getDay(row):\n",
        "    rowDict=row.asDict()\n",
        "    newDate = int(rowDict.get(\"Date\").strftime(\"%j\"))\n",
        "    rowDict[\"DayYear\"] = newDate\n",
        "    return rowDict"
      ]
    },
    {
      "cell_type": "code",
      "execution_count": 30,
      "metadata": {
        "tags": [],
        "id": "e-jrMLLLrnxZ"
      },
      "outputs": [],
      "source": [
        "temp = df.rdd.map(getDay)"
      ]
    },
    {
      "cell_type": "code",
      "execution_count": 31,
      "metadata": {
        "id": "-UrJJ9e7rnxa"
      },
      "outputs": [],
      "source": [
        "from pyspark.sql.types import IntegerType\n",
        "inputSchema = df.schema\n",
        "newSchema = inputSchema.add(\"DayYear\",IntegerType())"
      ]
    },
    {
      "cell_type": "code",
      "source": [
        "df = spark.createDataFrame(temp,newSchema)"
      ],
      "metadata": {
        "id": "Q0U1epD-u2m5"
      },
      "execution_count": 32,
      "outputs": []
    },
    {
      "cell_type": "code",
      "source": [
        "df = df.drop(\"Date\")\n",
        "df.show(5)"
      ],
      "metadata": {
        "colab": {
          "base_uri": "https://localhost:8080/"
        },
        "id": "SxiOnSIHu9IJ",
        "outputId": "964fdef3-1ac5-4679-bf27-16d9808beffd"
      },
      "execution_count": 33,
      "outputs": [
        {
          "output_type": "stream",
          "name": "stdout",
          "text": [
            "+--------+-------+-------+--------+-----------+-------------+----------+----------+------------+------------+-----------+-----------+-----------+-----------+-------+-------+---------+------------+-------+\n",
            "|Location|MinTemp|MaxTemp|Rainfall|WindGustDir|WindGustSpeed|WindDir9am|WindDir3pm|WindSpeed9am|WindSpeed3pm|Humidity9am|Humidity3pm|Pressure9am|Pressure3pm|Temp9am|Temp3pm|RainToday|RainTomorrow|DayYear|\n",
            "+--------+-------+-------+--------+-----------+-------------+----------+----------+------------+------------+-----------+-----------+-----------+-----------+-------+-------+---------+------------+-------+\n",
            "|  Albury|   13.4|   22.9|     0.6|          W|           44|         W|       WNW|          20|          24|         71|         22|     1007.7|     1007.1|   16.9|   21.8|       No|          No|    336|\n",
            "|  Albury|    7.4|   25.1|     0.0|        WNW|           44|       NNW|       WSW|           4|          22|         44|         25|     1010.6|     1007.8|   17.2|   24.3|       No|          No|    337|\n",
            "|  Albury|   12.9|   25.7|     0.0|        WSW|           46|         W|       WSW|          19|          26|         38|         30|     1007.6|     1008.7|   21.0|   23.2|       No|          No|    338|\n",
            "|  Albury|    9.2|   28.0|     0.0|         NE|           24|        SE|         E|          11|           9|         45|         16|     1017.6|     1012.8|   18.1|   26.5|       No|          No|    339|\n",
            "|  Albury|   17.5|   32.3|     1.0|          W|           41|       ENE|        NW|           7|          20|         82|         33|     1010.8|     1006.0|   17.8|   29.7|       No|          No|    340|\n",
            "+--------+-------+-------+--------+-----------+-------------+----------+----------+------------+------------+-----------+-----------+-----------+-----------+-------+-------+---------+------------+-------+\n",
            "only showing top 5 rows\n",
            "\n"
          ]
        }
      ]
    },
    {
      "cell_type": "code",
      "source": [
        "def genPressMed(row):\n",
        "    rowDict=row.asDict()\n",
        "    pMed = (rowDict.get(\"Pressure3pm\")+rowDict.get(\"Pressure9am\"))/2.0\n",
        "    rowDict[\"MedPressure\"] = pMed\n",
        "    return rowDict"
      ],
      "metadata": {
        "id": "oT26qPfsvg8Y"
      },
      "execution_count": 46,
      "outputs": []
    },
    {
      "cell_type": "code",
      "source": [
        "temp = df.rdd.map(genPressMed)"
      ],
      "metadata": {
        "id": "Zn9TfsLiyEbe"
      },
      "execution_count": 47,
      "outputs": []
    },
    {
      "cell_type": "code",
      "source": [
        "from pyspark.sql.types import FloatType\n",
        "inputSchema = df.schema\n",
        "newSchema = inputSchema.add(\"MedPressure\",FloatType())\n",
        "\n"
      ],
      "metadata": {
        "id": "DDKUF2-uwtfg"
      },
      "execution_count": 48,
      "outputs": []
    },
    {
      "cell_type": "code",
      "source": [
        "df = spark.createDataFrame(temp,newSchema)"
      ],
      "metadata": {
        "id": "wfxSb0ocwtbY"
      },
      "execution_count": 49,
      "outputs": []
    },
    {
      "cell_type": "code",
      "source": [
        "df.show()"
      ],
      "metadata": {
        "colab": {
          "base_uri": "https://localhost:8080/"
        },
        "id": "lWS6TH0swtGJ",
        "outputId": "7671145f-36b0-4e80-8ce7-c8886ea7f8c0"
      },
      "execution_count": 50,
      "outputs": [
        {
          "output_type": "stream",
          "name": "stdout",
          "text": [
            "+--------+-------+-------+--------+-----------+-------------+----------+----------+------------+------------+-----------+-----------+-----------+-----------+-------+-------+---------+------------+-------+-----------+\n",
            "|Location|MinTemp|MaxTemp|Rainfall|WindGustDir|WindGustSpeed|WindDir9am|WindDir3pm|WindSpeed9am|WindSpeed3pm|Humidity9am|Humidity3pm|Pressure9am|Pressure3pm|Temp9am|Temp3pm|RainToday|RainTomorrow|DayYear|MedPressure|\n",
            "+--------+-------+-------+--------+-----------+-------------+----------+----------+------------+------------+-----------+-----------+-----------+-----------+-------+-------+---------+------------+-------+-----------+\n",
            "|  Albury|   13.4|   22.9|     0.6|          W|           44|         W|       WNW|          20|          24|         71|         22|     1007.7|     1007.1|   16.9|   21.8|       No|          No|    336|     1007.4|\n",
            "|  Albury|    7.4|   25.1|     0.0|        WNW|           44|       NNW|       WSW|           4|          22|         44|         25|     1010.6|     1007.8|   17.2|   24.3|       No|          No|    337| 1009.19995|\n",
            "|  Albury|   12.9|   25.7|     0.0|        WSW|           46|         W|       WSW|          19|          26|         38|         30|     1007.6|     1008.7|   21.0|   23.2|       No|          No|    338|    1008.15|\n",
            "|  Albury|    9.2|   28.0|     0.0|         NE|           24|        SE|         E|          11|           9|         45|         16|     1017.6|     1012.8|   18.1|   26.5|       No|          No|    339| 1015.19995|\n",
            "|  Albury|   17.5|   32.3|     1.0|          W|           41|       ENE|        NW|           7|          20|         82|         33|     1010.8|     1006.0|   17.8|   29.7|       No|          No|    340|     1008.4|\n",
            "|  Albury|   14.6|   29.7|     0.2|        WNW|           56|         W|         W|          19|          24|         55|         23|     1009.2|     1005.4|   20.6|   28.9|       No|          No|    341| 1007.30005|\n",
            "|  Albury|   14.3|   25.0|     0.0|          W|           50|        SW|         W|          20|          24|         49|         19|     1009.6|     1008.2|   18.1|   24.6|       No|          No|    342|     1008.9|\n",
            "|  Albury|    7.7|   26.7|     0.0|          W|           35|       SSE|         W|           6|          17|         48|         19|     1013.4|     1010.1|   16.3|   25.5|       No|          No|    343|    1011.75|\n",
            "|  Albury|    9.7|   31.9|     0.0|        NNW|           80|        SE|        NW|           7|          28|         42|          9|     1008.9|     1003.6|   18.3|   30.2|       No|         Yes|    344|    1006.25|\n",
            "|  Albury|   13.1|   30.1|     1.4|          W|           28|         S|       SSE|          15|          11|         58|         27|     1007.0|     1005.7|   20.1|   28.2|      Yes|          No|    345|    1006.35|\n",
            "|  Albury|   13.4|   30.4|     0.0|          N|           30|       SSE|       ESE|          17|           6|         48|         22|     1011.8|     1008.7|   20.4|   28.8|       No|         Yes|    346|    1010.25|\n",
            "|  Albury|   15.9|   21.7|     2.2|        NNE|           31|        NE|       ENE|          15|          13|         89|         91|     1010.5|     1004.2|   15.9|   17.0|      Yes|         Yes|    347|    1007.35|\n",
            "|  Albury|   15.9|   18.6|    15.6|          W|           61|       NNW|       NNW|          28|          28|         76|         93|      994.3|      993.0|   17.4|   15.8|      Yes|         Yes|    348|     993.65|\n",
            "|  Albury|   12.6|   21.0|     3.6|         SW|           44|         W|       SSW|          24|          20|         65|         43|     1001.2|     1001.8|   15.8|   19.8|      Yes|          No|    349|     1001.5|\n",
            "|  Albury|   14.1|   20.9|     0.0|        ENE|           22|       SSW|         E|          11|           9|         69|         82|     1012.2|     1010.4|   17.2|   18.1|       No|         Yes|    352| 1011.30005|\n",
            "|  Albury|   13.5|   22.9|    16.8|          W|           63|         N|       WNW|           6|          20|         80|         65|     1005.8|     1002.2|   18.0|   21.5|      Yes|         Yes|    353|     1004.0|\n",
            "|  Albury|   11.2|   22.5|    10.6|        SSE|           43|       WSW|        SW|          24|          17|         47|         32|     1009.4|     1009.7|   15.5|   21.0|      Yes|          No|    354| 1009.55005|\n",
            "|  Albury|    9.8|   25.6|     0.0|        SSE|           26|        SE|       NNW|          17|           6|         45|         26|     1019.2|     1017.1|   15.8|   23.2|       No|          No|    355|    1018.15|\n",
            "|  Albury|   11.5|   29.3|     0.0|          S|           24|        SE|        SE|           9|           9|         56|         28|     1019.3|     1014.8|   19.1|   27.3|       No|          No|    356|    1017.05|\n",
            "|  Albury|   17.1|   33.0|     0.0|         NE|           43|        NE|         N|          17|          22|         38|         28|     1013.6|     1008.1|   24.5|   31.6|       No|          No|    357|    1010.85|\n",
            "+--------+-------+-------+--------+-----------+-------------+----------+----------+------------+------------+-----------+-----------+-----------+-----------+-------+-------+---------+------------+-------+-----------+\n",
            "only showing top 20 rows\n",
            "\n"
          ]
        }
      ]
    },
    {
      "cell_type": "code",
      "source": [
        "df = df.drop(\"Pressure3pm\",\"Pressure9am\")"
      ],
      "metadata": {
        "id": "KezKSUxC05RC"
      },
      "execution_count": 51,
      "outputs": []
    },
    {
      "cell_type": "code",
      "source": [
        "df.show()"
      ],
      "metadata": {
        "colab": {
          "base_uri": "https://localhost:8080/"
        },
        "id": "PKc6gWYl2z-F",
        "outputId": "fa72c210-a8a6-4271-89f4-2b9f8d25ea58"
      },
      "execution_count": 55,
      "outputs": [
        {
          "output_type": "stream",
          "name": "stdout",
          "text": [
            "+--------+-------+-------+--------+-----------+-------------+----------+----------+------------+------------+-----------+-----------+---------+------------+-------+-----------+\n",
            "|Location|MinTemp|MaxTemp|Rainfall|WindGustDir|WindGustSpeed|WindDir9am|WindDir3pm|WindSpeed9am|WindSpeed3pm|Humidity9am|Humidity3pm|RainToday|RainTomorrow|DayYear|MedPressure|\n",
            "+--------+-------+-------+--------+-----------+-------------+----------+----------+------------+------------+-----------+-----------+---------+------------+-------+-----------+\n",
            "|  Albury|   13.4|   22.9|     0.6|          W|           44|         W|       WNW|          20|          24|         71|         22|       No|          No|    336|     1007.4|\n",
            "|  Albury|    7.4|   25.1|     0.0|        WNW|           44|       NNW|       WSW|           4|          22|         44|         25|       No|          No|    337| 1009.19995|\n",
            "|  Albury|   12.9|   25.7|     0.0|        WSW|           46|         W|       WSW|          19|          26|         38|         30|       No|          No|    338|    1008.15|\n",
            "|  Albury|    9.2|   28.0|     0.0|         NE|           24|        SE|         E|          11|           9|         45|         16|       No|          No|    339| 1015.19995|\n",
            "|  Albury|   17.5|   32.3|     1.0|          W|           41|       ENE|        NW|           7|          20|         82|         33|       No|          No|    340|     1008.4|\n",
            "|  Albury|   14.6|   29.7|     0.2|        WNW|           56|         W|         W|          19|          24|         55|         23|       No|          No|    341| 1007.30005|\n",
            "|  Albury|   14.3|   25.0|     0.0|          W|           50|        SW|         W|          20|          24|         49|         19|       No|          No|    342|     1008.9|\n",
            "|  Albury|    7.7|   26.7|     0.0|          W|           35|       SSE|         W|           6|          17|         48|         19|       No|          No|    343|    1011.75|\n",
            "|  Albury|    9.7|   31.9|     0.0|        NNW|           80|        SE|        NW|           7|          28|         42|          9|       No|         Yes|    344|    1006.25|\n",
            "|  Albury|   13.1|   30.1|     1.4|          W|           28|         S|       SSE|          15|          11|         58|         27|      Yes|          No|    345|    1006.35|\n",
            "|  Albury|   13.4|   30.4|     0.0|          N|           30|       SSE|       ESE|          17|           6|         48|         22|       No|         Yes|    346|    1010.25|\n",
            "|  Albury|   15.9|   21.7|     2.2|        NNE|           31|        NE|       ENE|          15|          13|         89|         91|      Yes|         Yes|    347|    1007.35|\n",
            "|  Albury|   15.9|   18.6|    15.6|          W|           61|       NNW|       NNW|          28|          28|         76|         93|      Yes|         Yes|    348|     993.65|\n",
            "|  Albury|   12.6|   21.0|     3.6|         SW|           44|         W|       SSW|          24|          20|         65|         43|      Yes|          No|    349|     1001.5|\n",
            "|  Albury|   14.1|   20.9|     0.0|        ENE|           22|       SSW|         E|          11|           9|         69|         82|       No|         Yes|    352| 1011.30005|\n",
            "|  Albury|   13.5|   22.9|    16.8|          W|           63|         N|       WNW|           6|          20|         80|         65|      Yes|         Yes|    353|     1004.0|\n",
            "|  Albury|   11.2|   22.5|    10.6|        SSE|           43|       WSW|        SW|          24|          17|         47|         32|      Yes|          No|    354| 1009.55005|\n",
            "|  Albury|    9.8|   25.6|     0.0|        SSE|           26|        SE|       NNW|          17|           6|         45|         26|       No|          No|    355|    1018.15|\n",
            "|  Albury|   11.5|   29.3|     0.0|          S|           24|        SE|        SE|           9|           9|         56|         28|       No|          No|    356|    1017.05|\n",
            "|  Albury|   17.1|   33.0|     0.0|         NE|           43|        NE|         N|          17|          22|         38|         28|       No|          No|    357|    1010.85|\n",
            "+--------+-------+-------+--------+-----------+-------------+----------+----------+------------+------------+-----------+-----------+---------+------------+-------+-----------+\n",
            "only showing top 20 rows\n",
            "\n"
          ]
        }
      ]
    },
    {
      "cell_type": "code",
      "source": [
        "def llevar01(row):\n",
        "    rowDict=row.asDict()\n",
        "    RainTodayBin = 0\n",
        "    if(rowDict.get(\"RainToday\")==\"No\"):\n",
        "        RainTodayBin = 0\n",
        "    else:\n",
        "        RainTodayBin = 1\n",
        "    \n",
        "    RainTomorrowBin = 0\n",
        "    if(rowDict.get(\"RainToday\")==\"No\"):\n",
        "        RainTomorrowBin = 0\n",
        "    else:\n",
        "        RainTomorrowBin = 1\n",
        "    rowDict[\"RainTomorrowBin\"] = RainTomorrowBin\n",
        "    rowDict[\"RainTodayBin\"] = RainTodayBin\n",
        "    return rowDict"
      ],
      "metadata": {
        "id": "RmLfGvsd3MMr"
      },
      "execution_count": 57,
      "outputs": []
    },
    {
      "cell_type": "code",
      "source": [
        "temp = df.rdd.map(llevar01)"
      ],
      "metadata": {
        "id": "qtkzOBsC4kkU"
      },
      "execution_count": 58,
      "outputs": []
    },
    {
      "cell_type": "code",
      "source": [
        "inputSchema = df.schema\n",
        "newSchema = inputSchema.add(\"RainTodayBin\",IntegerType()).add(\"RainTomorrowBin\",IntegerType())"
      ],
      "metadata": {
        "id": "lK97t0e14yOS"
      },
      "execution_count": 59,
      "outputs": []
    },
    {
      "cell_type": "code",
      "source": [
        "df = spark.createDataFrame(temp,newSchema)\n",
        "df.show()"
      ],
      "metadata": {
        "colab": {
          "base_uri": "https://localhost:8080/"
        },
        "id": "b2XhHkVm5FZL",
        "outputId": "2a302d07-ad2e-468f-cc7a-70cce00892a4"
      },
      "execution_count": 60,
      "outputs": [
        {
          "output_type": "stream",
          "name": "stdout",
          "text": [
            "+--------+-------+-------+--------+-----------+-------------+----------+----------+------------+------------+-----------+-----------+---------+------------+-------+-----------+------------+---------------+\n",
            "|Location|MinTemp|MaxTemp|Rainfall|WindGustDir|WindGustSpeed|WindDir9am|WindDir3pm|WindSpeed9am|WindSpeed3pm|Humidity9am|Humidity3pm|RainToday|RainTomorrow|DayYear|MedPressure|RainTodayBin|RainTomorrowBin|\n",
            "+--------+-------+-------+--------+-----------+-------------+----------+----------+------------+------------+-----------+-----------+---------+------------+-------+-----------+------------+---------------+\n",
            "|  Albury|   13.4|   22.9|     0.6|          W|           44|         W|       WNW|          20|          24|         71|         22|       No|          No|    336|     1007.4|           0|              0|\n",
            "|  Albury|    7.4|   25.1|     0.0|        WNW|           44|       NNW|       WSW|           4|          22|         44|         25|       No|          No|    337| 1009.19995|           0|              0|\n",
            "|  Albury|   12.9|   25.7|     0.0|        WSW|           46|         W|       WSW|          19|          26|         38|         30|       No|          No|    338|    1008.15|           0|              0|\n",
            "|  Albury|    9.2|   28.0|     0.0|         NE|           24|        SE|         E|          11|           9|         45|         16|       No|          No|    339| 1015.19995|           0|              0|\n",
            "|  Albury|   17.5|   32.3|     1.0|          W|           41|       ENE|        NW|           7|          20|         82|         33|       No|          No|    340|     1008.4|           0|              0|\n",
            "|  Albury|   14.6|   29.7|     0.2|        WNW|           56|         W|         W|          19|          24|         55|         23|       No|          No|    341| 1007.30005|           0|              0|\n",
            "|  Albury|   14.3|   25.0|     0.0|          W|           50|        SW|         W|          20|          24|         49|         19|       No|          No|    342|     1008.9|           0|              0|\n",
            "|  Albury|    7.7|   26.7|     0.0|          W|           35|       SSE|         W|           6|          17|         48|         19|       No|          No|    343|    1011.75|           0|              0|\n",
            "|  Albury|    9.7|   31.9|     0.0|        NNW|           80|        SE|        NW|           7|          28|         42|          9|       No|         Yes|    344|    1006.25|           0|              0|\n",
            "|  Albury|   13.1|   30.1|     1.4|          W|           28|         S|       SSE|          15|          11|         58|         27|      Yes|          No|    345|    1006.35|           1|              1|\n",
            "|  Albury|   13.4|   30.4|     0.0|          N|           30|       SSE|       ESE|          17|           6|         48|         22|       No|         Yes|    346|    1010.25|           0|              0|\n",
            "|  Albury|   15.9|   21.7|     2.2|        NNE|           31|        NE|       ENE|          15|          13|         89|         91|      Yes|         Yes|    347|    1007.35|           1|              1|\n",
            "|  Albury|   15.9|   18.6|    15.6|          W|           61|       NNW|       NNW|          28|          28|         76|         93|      Yes|         Yes|    348|     993.65|           1|              1|\n",
            "|  Albury|   12.6|   21.0|     3.6|         SW|           44|         W|       SSW|          24|          20|         65|         43|      Yes|          No|    349|     1001.5|           1|              1|\n",
            "|  Albury|   14.1|   20.9|     0.0|        ENE|           22|       SSW|         E|          11|           9|         69|         82|       No|         Yes|    352| 1011.30005|           0|              0|\n",
            "|  Albury|   13.5|   22.9|    16.8|          W|           63|         N|       WNW|           6|          20|         80|         65|      Yes|         Yes|    353|     1004.0|           1|              1|\n",
            "|  Albury|   11.2|   22.5|    10.6|        SSE|           43|       WSW|        SW|          24|          17|         47|         32|      Yes|          No|    354| 1009.55005|           1|              1|\n",
            "|  Albury|    9.8|   25.6|     0.0|        SSE|           26|        SE|       NNW|          17|           6|         45|         26|       No|          No|    355|    1018.15|           0|              0|\n",
            "|  Albury|   11.5|   29.3|     0.0|          S|           24|        SE|        SE|           9|           9|         56|         28|       No|          No|    356|    1017.05|           0|              0|\n",
            "|  Albury|   17.1|   33.0|     0.0|         NE|           43|        NE|         N|          17|          22|         38|         28|       No|          No|    357|    1010.85|           0|              0|\n",
            "+--------+-------+-------+--------+-----------+-------------+----------+----------+------------+------------+-----------+-----------+---------+------------+-------+-----------+------------+---------------+\n",
            "only showing top 20 rows\n",
            "\n"
          ]
        }
      ]
    },
    {
      "cell_type": "code",
      "source": [
        "df = df.drop(\"RainToday\",\"RainTomorrow\")"
      ],
      "metadata": {
        "id": "lJCDLNQ05KmD"
      },
      "execution_count": 70,
      "outputs": []
    },
    {
      "cell_type": "code",
      "source": [
        "type(df.groupBy(\"Location\").count())"
      ],
      "metadata": {
        "colab": {
          "base_uri": "https://localhost:8080/"
        },
        "id": "SQ6bx3L65UXj",
        "outputId": "4dd33286-828a-405d-82cf-d8b8265c182f"
      },
      "execution_count": 69,
      "outputs": [
        {
          "output_type": "execute_result",
          "data": {
            "text/plain": [
              "pyspark.sql.dataframe.DataFrame"
            ]
          },
          "metadata": {},
          "execution_count": 69
        }
      ]
    },
    {
      "cell_type": "code",
      "source": [
        "df = df.drop(\"WindDir9am\", \"WindDir3pm\",\"WindSpeed9am\",\"WindSpeed3pm\")\n",
        "df.show(5)"
      ],
      "metadata": {
        "colab": {
          "base_uri": "https://localhost:8080/"
        },
        "id": "8c-0gG2X51rc",
        "outputId": "40b1af61-f5ab-4868-d703-1a95d43077f8"
      },
      "execution_count": 72,
      "outputs": [
        {
          "output_type": "stream",
          "name": "stdout",
          "text": [
            "+--------+-------+-------+--------+-----------+-------------+-----------+-----------+-------+-----------+------------+---------------+\n",
            "|Location|MinTemp|MaxTemp|Rainfall|WindGustDir|WindGustSpeed|Humidity9am|Humidity3pm|DayYear|MedPressure|RainTodayBin|RainTomorrowBin|\n",
            "+--------+-------+-------+--------+-----------+-------------+-----------+-----------+-------+-----------+------------+---------------+\n",
            "|  Albury|   13.4|   22.9|     0.6|          W|           44|         71|         22|    336|     1007.4|           0|              0|\n",
            "|  Albury|    7.4|   25.1|     0.0|        WNW|           44|         44|         25|    337| 1009.19995|           0|              0|\n",
            "|  Albury|   12.9|   25.7|     0.0|        WSW|           46|         38|         30|    338|    1008.15|           0|              0|\n",
            "|  Albury|    9.2|   28.0|     0.0|         NE|           24|         45|         16|    339| 1015.19995|           0|              0|\n",
            "|  Albury|   17.5|   32.3|     1.0|          W|           41|         82|         33|    340|     1008.4|           0|              0|\n",
            "+--------+-------+-------+--------+-----------+-------------+-----------+-----------+-------+-----------+------------+---------------+\n",
            "only showing top 5 rows\n",
            "\n"
          ]
        }
      ]
    },
    {
      "cell_type": "code",
      "source": [
        "#df.write.csv('/content/drive/MyDrive/weatherLimpio.csv',header=True)"
      ],
      "metadata": {
        "id": "dxlgqtTm7OMk"
      },
      "execution_count": 74,
      "outputs": []
    },
    {
      "cell_type": "code",
      "source": [
        "df"
      ],
      "metadata": {
        "colab": {
          "base_uri": "https://localhost:8080/"
        },
        "id": "cRnsujSZ76Xt",
        "outputId": "f1e91482-0216-489e-a56a-92b48142bcf1"
      },
      "execution_count": 75,
      "outputs": [
        {
          "output_type": "execute_result",
          "data": {
            "text/plain": [
              "DataFrame[Location: string, MinTemp: float, MaxTemp: float, Rainfall: float, WindGustDir: string, WindGustSpeed: int, Humidity9am: int, Humidity3pm: int, DayYear: int, MedPressure: float, RainTodayBin: int, RainTomorrowBin: int]"
            ]
          },
          "metadata": {},
          "execution_count": 75
        }
      ]
    },
    {
      "cell_type": "code",
      "source": [],
      "metadata": {
        "id": "ycg0E4jN8u9M"
      },
      "execution_count": null,
      "outputs": []
    }
  ]
}